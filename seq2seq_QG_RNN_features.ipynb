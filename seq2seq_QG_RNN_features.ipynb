{
  "nbformat": 4,
  "nbformat_minor": 0,
  "metadata": {
    "colab": {
      "name": "seq2seq_QG_RNN_features.ipynb",
      "provenance": [],
      "collapsed_sections": [],
      "machine_shape": "hm"
    },
    "kernelspec": {
      "name": "python3",
      "display_name": "Python 3"
    },
    "accelerator": "GPU"
  },
  "cells": [
    {
      "cell_type": "code",
      "metadata": {
        "id": "HK3D5lJ8b8Lh",
        "colab_type": "code",
        "colab": {}
      },
      "source": [
        "# References: https://medium.com/@adam.wearne/seq2seq-with-pytorch-46dc00ff5164,\n",
        "# https://github.com/bentrevett/pytorch-seq2seq/blob/master/4%20-%20Packed%20Padded%20Sequences%2C%20Masking%2C%20Inference%20and%20BLEU.ipynb\n",
        "import torch\n",
        "import torch.nn as nn\n",
        "import torch.nn.functional as F\n",
        "import torch.optim as optim\n",
        "from torchtext import data\n",
        "import random\n",
        "import pandas as pd\n",
        "from sklearn.model_selection import train_test_split\n",
        "from tqdm import tqdm\n",
        "device = torch.device('cuda' if torch.cuda.is_available() else 'cpu')"
      ],
      "execution_count": 0,
      "outputs": []
    },
    {
      "cell_type": "markdown",
      "metadata": {
        "id": "Ibq9hTV8wKrZ",
        "colab_type": "text"
      },
      "source": [
        "## **Load data**"
      ]
    },
    {
      "cell_type": "code",
      "metadata": {
        "id": "udhfTZQy7zo5",
        "colab_type": "code",
        "outputId": "3b581fc7-1c2d-43a1-93f9-249f51a7ce4f",
        "colab": {
          "base_uri": "https://localhost:8080/",
          "height": 34
        }
      },
      "source": [
        "from google.colab import drive\n",
        "drive.mount('/content/drive')"
      ],
      "execution_count": 2,
      "outputs": [
        {
          "output_type": "stream",
          "text": [
            "Drive already mounted at /content/drive; to attempt to forcibly remount, call drive.mount(\"/content/drive\", force_remount=True).\n"
          ],
          "name": "stdout"
        }
      ]
    },
    {
      "cell_type": "code",
      "metadata": {
        "id": "aetgAeC38cvC",
        "colab_type": "code",
        "colab": {}
      },
      "source": [
        "# !ls \"/content/drive/My Drive\"\n",
        "!cp \"/content/drive/My Drive/dataset/squad_train.csv\" \"squad_train.csv\"\n",
        "!cp \"/content/drive/My Drive/dataset/squad_dev.csv\" \"squad_dev.csv\"\n",
        "# !ls"
      ],
      "execution_count": 0,
      "outputs": []
    },
    {
      "cell_type": "code",
      "metadata": {
        "id": "QbATRiwD8sGD",
        "colab_type": "code",
        "colab": {}
      },
      "source": [
        "# make test set & lexical features\n",
        "dev = pd.read_csv('squad_dev.csv')\n",
        "dev['LEX'] = ''\n",
        "for idx, pos, ner, case in dev[['POS', 'NER', 'case']].itertuples():\n",
        "  lex = [i + '_' + j + '_' + z for i, j, z in zip(pos.split(), ner.split(), case.split())]\n",
        "  dev['LEX'][idx] = ' '.join(lex)\n",
        "dev = dev[['context', 'question', 'BIO', 'LEX']]\n",
        "val, test = train_test_split(dev, test_size=0.5)"
      ],
      "execution_count": 0,
      "outputs": []
    },
    {
      "cell_type": "code",
      "metadata": {
        "id": "_bmn8vj_A3K7",
        "colab_type": "code",
        "colab": {}
      },
      "source": [
        "val.to_csv('squad_val.csv', index=False)\n",
        "test.to_csv('squad_test.csv', index=False)"
      ],
      "execution_count": 0,
      "outputs": []
    },
    {
      "cell_type": "code",
      "metadata": {
        "id": "nI-c3GL36pJx",
        "colab_type": "code",
        "colab": {}
      },
      "source": [
        "train_file = pd.read_csv('squad_train.csv')\n",
        "train_file['LEX'] = ''\n",
        "for idx, pos, ner, case in train_file[['POS', 'NER', 'case']].itertuples():\n",
        "  lex = [i + '_' + j + '_' + z for i, j, z in zip(pos.split(), ner.split(), case.split())]\n",
        "  train_file['LEX'][idx] = ' '.join(lex)\n",
        "train_file = train_file[['context', 'question', 'BIO', 'LEX']]"
      ],
      "execution_count": 0,
      "outputs": []
    },
    {
      "cell_type": "code",
      "metadata": {
        "id": "_XeI8ONS7CkU",
        "colab_type": "code",
        "colab": {}
      },
      "source": [
        "train_file.to_csv('squad_train.csv', index=False)"
      ],
      "execution_count": 0,
      "outputs": []
    },
    {
      "cell_type": "code",
      "metadata": {
        "id": "W0ttdwMjdOdK",
        "colab_type": "code",
        "colab": {}
      },
      "source": [
        "# Create Field object\n",
        "tokenize = lambda x: x.split()\n",
        "TEXT = data.Field(tokenize=tokenize, lower=False, include_lengths = True, \n",
        "                  init_token = '<sos>', eos_token = '<eos>')\n",
        "LEX = data.Field(tokenize=tokenize, lower=False, init_token = '<sos>', eos_token = '<sos>')\n",
        "BIO = data.Field(tokenize=tokenize, lower=False, init_token = '<sos>', eos_token = '<sos>')\n",
        "\n",
        "# Specify Fields in our dataset\n",
        "fields = [('context', TEXT), ('question', TEXT), ('bio', BIO), ('lex', LEX)]\n",
        "\n",
        "# Build the dataset\n",
        "train_data, valid_data, test_data = data.TabularDataset.splits(path = '',\n",
        "                                                    train='squad_train.csv',\n",
        "                                                    validation='squad_val.csv', \n",
        "                                                    test='squad_test.csv', \n",
        "                                                    fields = fields,\n",
        "                                                    format='csv', \n",
        "                                                    skip_header=True)"
      ],
      "execution_count": 0,
      "outputs": []
    },
    {
      "cell_type": "code",
      "metadata": {
        "id": "azf6dujVBCMR",
        "colab_type": "code",
        "outputId": "3e942a82-7136-470a-8134-d7d548ea5b84",
        "colab": {
          "base_uri": "https://localhost:8080/",
          "height": 67
        }
      },
      "source": [
        "print(f\"Number of training examples: {len(train_data.examples)}\")\n",
        "print(f\"Number of validation examples: {len(valid_data.examples)}\")\n",
        "print(f\"Number of testing examples: {len(test_data.examples)}\")"
      ],
      "execution_count": 9,
      "outputs": [
        {
          "output_type": "stream",
          "text": [
            "Number of training examples: 130319\n",
            "Number of validation examples: 5936\n",
            "Number of testing examples: 5937\n"
          ],
          "name": "stdout"
        }
      ]
    },
    {
      "cell_type": "code",
      "metadata": {
        "id": "5nsdr2JeBI8W",
        "colab_type": "code",
        "outputId": "8e0d58e1-665c-4a55-becb-9922f8025077",
        "colab": {
          "base_uri": "https://localhost:8080/",
          "height": 54
        }
      },
      "source": [
        "print(vars(train_data.examples[0]))"
      ],
      "execution_count": 10,
      "outputs": [
        {
          "output_type": "stream",
          "text": [
            "{'context': ['beyoncé', 'giselle', 'knowles', '-', 'carter', '(', '/biːˈjɒnseɪ/', 'bee', '-', 'yon', '-', 'say', ')', '(', 'born', 'september', '4', ',', '1981', ')', 'is', 'an', 'american', 'singer', ',', 'songwriter', ',', 'record', 'producer', 'and', 'actress', '.', 'born', 'and', 'raised', 'in', 'houston', ',', 'texas', ',', 'she', 'performed', 'in', 'various', 'singing', 'and', 'dancing', 'competitions', 'as', 'a', 'child', ',', 'and', 'rose', 'to', 'fame', 'in', 'the', 'late', '1990s', 's', 'lead', 'singer', 'of', 'r&b', 'girl', '-', 'group', 'destiny', \"'s\", 'child', '.', 'managed', 'by', 'her', 'father', ',', 'mathew', 'knowles', ',', 'the', 'group', 'became', 'one', 'of', 'the', 'world', \"'s\", 'best', '-', 'selling', 'girl', 'groups', 'of', 'all', 'time', '.', 'their', 'hiatus', 'saw', 'the', 'release', 'of', 'beyoncé', \"'s\", 'debut', 'album', ',', 'dangerously', 'in', 'love', '(', '2003', ')', ',', 'which', 'established', 'her', 'as', 'a', 'solo', 'artist', 'worldwide', ',', 'earned', 'five', 'grammy', 'awards', 'and', 'featured', 'the', 'billboard', 'hot', '100', 'number', '-', 'one', 'singles', '\"', 'crazy', 'in', 'love', '\"', 'and', '\"', 'baby', 'boy', '\"', '.'], 'question': ['when', 'did', 'beyonce', 'start', 'becoming', 'popular', '?'], 'bio': ['O', 'O', 'O', 'O', 'O', 'O', 'O', 'O', 'O', 'O', 'O', 'O', 'O', 'O', 'O', 'O', 'O', 'O', 'O', 'O', 'O', 'O', 'O', 'O', 'O', 'O', 'O', 'O', 'O', 'O', 'O', 'O', 'O', 'O', 'O', 'O', 'O', 'O', 'O', 'O', 'O', 'O', 'O', 'O', 'O', 'O', 'O', 'O', 'O', 'O', 'O', 'O', 'O', 'O', 'O', 'O', 'B', 'I', 'I', 'I', 'O', 'O', 'O', 'O', 'O', 'O', 'O', 'O', 'O', 'O', 'O', 'O', 'O', 'O', 'O', 'O', 'O', 'O', 'O', 'O', 'O', 'O', 'O', 'O', 'O', 'O', 'O', 'O', 'O', 'O', 'O', 'O', 'O', 'O', 'O', 'O', 'O', 'O', 'O', 'O', 'O', 'O', 'O', 'O', 'O', 'O', 'O', 'O', 'O', 'O', 'O', 'O', 'O', 'O', 'O', 'O', 'O', 'O', 'O', 'O', 'O', 'O', 'O', 'O', 'O', 'O', 'O', 'O', 'O', 'O', 'O', 'O', 'O', 'O', 'O', 'O', 'O', 'O', 'O', 'O', 'O', 'O', 'O', 'O', 'O', 'O', 'O', 'O', 'O'], 'lex': ['PROPN_O_UP', 'PROPN_O_UP', 'PROPN_O_UP', 'PUNCT_O_LOW', 'PROPN_O_UP', 'PUNCT_O_LOW', 'ADJ_O_LOW', 'NOUN_O_LOW', 'PUNCT_O_LOW', 'PROPN_O_UP', 'PUNCT_O_LOW', 'NOUN_O_LOW', 'PUNCT_O_LOW', 'PUNCT_O_LOW', 'VERB_O_LOW', 'PROPN_DATE_UP', 'NUM_DATE_LOW', 'PUNCT_DATE_LOW', 'NUM_DATE_LOW', 'PUNCT_O_LOW', 'AUX_O_LOW', 'DET_O_LOW', 'ADJ_NORP_UP', 'NOUN_O_LOW', 'PUNCT_O_LOW', 'NOUN_O_LOW', 'PUNCT_O_LOW', 'NOUN_O_LOW', 'NOUN_O_LOW', 'CCONJ_O_LOW', 'NOUN_O_LOW', 'PUNCT_O_LOW', 'VERB_O_UP', 'CCONJ_O_LOW', 'VERB_O_LOW', 'ADP_O_LOW', 'PROPN_GPE_UP', 'PUNCT_O_LOW', 'PROPN_GPE_UP', 'PUNCT_O_LOW', 'PRON_O_LOW', 'VERB_O_LOW', 'ADP_O_LOW', 'ADJ_O_LOW', 'NOUN_O_LOW', 'CCONJ_O_LOW', 'NOUN_O_LOW', 'NOUN_O_LOW', 'SCONJ_O_LOW', 'DET_O_LOW', 'NOUN_O_LOW', 'PUNCT_O_LOW', 'CCONJ_O_LOW', 'VERB_O_LOW', 'ADP_O_LOW', 'NOUN_O_LOW', 'ADP_O_LOW', 'DET_DATE_LOW', 'ADJ_DATE_LOW', 'NOUN_DATE_LOW', 'PROPN_O_LOW', 'ADJ_O_LOW', 'NOUN_O_LOW', 'ADP_O_LOW', 'PROPN_ORG_UP', 'NOUN_O_LOW', 'PUNCT_O_LOW', 'NOUN_O_LOW', 'PROPN_O_UP', 'PART_O_LOW', 'NOUN_O_UP', 'PUNCT_O_LOW', 'VERB_O_UP', 'ADP_O_LOW', 'DET_O_LOW', 'NOUN_O_LOW', 'PUNCT_O_LOW', 'PROPN_PERSON_UP', 'PROPN_PERSON_UP', 'PUNCT_O_LOW', 'DET_O_LOW', 'NOUN_O_LOW', 'VERB_O_LOW', 'NUM_CARDINAL_LOW', 'ADP_O_LOW', 'DET_O_LOW', 'NOUN_O_LOW', 'PART_O_LOW', 'ADV_O_LOW', 'PUNCT_O_LOW', 'VERB_O_LOW', 'NOUN_O_LOW', 'NOUN_O_LOW', 'ADP_O_LOW', 'DET_O_LOW', 'NOUN_O_LOW', 'PUNCT_O_LOW', 'DET_O_UP', 'NOUN_O_LOW', 'VERB_O_LOW', 'DET_O_LOW', 'NOUN_O_LOW', 'ADP_O_LOW', 'PROPN_ORG_UP', 'PART_O_LOW', 'NOUN_O_LOW', 'NOUN_O_LOW', 'PUNCT_O_LOW', 'ADV_O_UP', 'ADP_O_LOW', 'NOUN_GPE_UP', 'PUNCT_O_LOW', 'NUM_DATE_LOW', 'PUNCT_O_LOW', 'PUNCT_O_LOW', 'DET_O_LOW', 'VERB_O_LOW', 'PRON_O_LOW', 'SCONJ_O_LOW', 'DET_O_LOW', 'NOUN_O_LOW', 'NOUN_O_LOW', 'ADV_O_LOW', 'PUNCT_O_LOW', 'VERB_O_LOW', 'NUM_CARDINAL_LOW', 'PROPN_EVENT_UP', 'PROPN_EVENT_UP', 'CCONJ_O_LOW', 'VERB_O_LOW', 'DET_O_LOW', 'PROPN_PRODUCT_UP', 'PROPN_PRODUCT_UP', 'NUM_PRODUCT_LOW', 'NOUN_O_LOW', 'PUNCT_O_LOW', 'NUM_CARDINAL_LOW', 'NOUN_O_LOW', 'PUNCT_WORK_OF_ART_LOW', 'PROPN_WORK_OF_ART_UP', 'ADP_WORK_OF_ART_LOW', 'PROPN_WORK_OF_ART_UP', 'PUNCT_WORK_OF_ART_LOW', 'CCONJ_WORK_OF_ART_LOW', 'PUNCT_WORK_OF_ART_LOW', 'PROPN_WORK_OF_ART_UP', 'PROPN_WORK_OF_ART_UP', 'PUNCT_WORK_OF_ART_LOW', 'PUNCT_O_LOW']}\n"
          ],
          "name": "stdout"
        }
      ]
    },
    {
      "cell_type": "code",
      "metadata": {
        "id": "EBgiHqtNs2mA",
        "colab_type": "code",
        "colab": {}
      },
      "source": [
        "# Build vocabulary\n",
        "MAX_VOCAB_SIZE = 50000\n",
        "MIN_COUNT = 5\n",
        "MAX_SEQUENCE_LENGTH = 20\n",
        "BATCH_SIZE = 128\n",
        "\n",
        "TEXT.build_vocab(train_data, \n",
        "                 max_size=MAX_VOCAB_SIZE,\n",
        "                 min_freq=MIN_COUNT,\n",
        "                 vectors='glove.6B.300d',\n",
        "                 unk_init=torch.Tensor.normal_)\n",
        "\n",
        "BIO.build_vocab(train_data)\n",
        "LEX.build_vocab(train_data)"
      ],
      "execution_count": 0,
      "outputs": []
    },
    {
      "cell_type": "code",
      "metadata": {
        "id": "i7-pKpDYBWkC",
        "colab_type": "code",
        "outputId": "5eba0c65-1ea9-45ea-a0e9-b686af02685d",
        "colab": {
          "base_uri": "https://localhost:8080/",
          "height": 67
        }
      },
      "source": [
        "\n",
        "print(f\"Unique tokens in vocabulary: {len(TEXT.vocab)}\")\n",
        "print('bio', len(BIO.vocab))\n",
        "print('lex', len(LEX.vocab))"
      ],
      "execution_count": 12,
      "outputs": [
        {
          "output_type": "stream",
          "text": [
            "Unique tokens in vocabulary: 50004\n",
            "bio 6\n",
            "lex 452\n"
          ],
          "name": "stdout"
        }
      ]
    },
    {
      "cell_type": "code",
      "metadata": {
        "id": "EsbihyTdApSY",
        "colab_type": "code",
        "outputId": "4e731ea3-0e97-4ff3-be5c-cc927d764338",
        "colab": {
          "base_uri": "https://localhost:8080/",
          "height": 34
        }
      },
      "source": [
        "LEX.vocab.stoi['<pad>']"
      ],
      "execution_count": 13,
      "outputs": [
        {
          "output_type": "execute_result",
          "data": {
            "text/plain": [
              "1"
            ]
          },
          "metadata": {
            "tags": []
          },
          "execution_count": 13
        }
      ]
    },
    {
      "cell_type": "code",
      "metadata": {
        "id": "AqoPTaroAqNC",
        "colab_type": "code",
        "outputId": "c1d77cfa-39ca-4b3f-e89c-30d66e3cb98a",
        "colab": {
          "base_uri": "https://localhost:8080/",
          "height": 34
        }
      },
      "source": [
        "BIO.vocab.stoi['<pad>']"
      ],
      "execution_count": 14,
      "outputs": [
        {
          "output_type": "execute_result",
          "data": {
            "text/plain": [
              "1"
            ]
          },
          "metadata": {
            "tags": []
          },
          "execution_count": 14
        }
      ]
    },
    {
      "cell_type": "code",
      "metadata": {
        "id": "kGsSwKBWwIND",
        "colab_type": "code",
        "colab": {}
      },
      "source": [
        "# Create a set of iterators for each split\n",
        "\n",
        "train_iterator, valid_iterator, test_iterator = data.BucketIterator.splits(\n",
        "    (train_data, valid_data, test_data), \n",
        "     batch_size = BATCH_SIZE,\n",
        "     sort_within_batch = True,\n",
        "     sort_key = lambda x:len(x.context),\n",
        "     device = device)"
      ],
      "execution_count": 0,
      "outputs": []
    },
    {
      "cell_type": "markdown",
      "metadata": {
        "id": "AFR2LZ21x6B9",
        "colab_type": "text"
      },
      "source": [
        "## **Encoder**"
      ]
    },
    {
      "cell_type": "code",
      "metadata": {
        "id": "ejBnlQAYxxS4",
        "colab_type": "code",
        "colab": {}
      },
      "source": [
        "class Encoder(nn.Module):\n",
        "  \n",
        "    def __init__(self, hidden_size, embedding_size,\n",
        "                 embedding, answer_embedding, lexical_embedding, n_layers, dropout):\n",
        "      \n",
        "        super(Encoder, self).__init__()\n",
        "        \n",
        "        # Basic network params\n",
        "        self.hidden_size = hidden_size\n",
        "        self.embedding_size = embedding_size\n",
        "        self.n_layers = n_layers\n",
        "        self.dropout = dropout\n",
        "        \n",
        "        # Embedding layer that will be shared with Decoder\n",
        "        self.embedding = embedding\n",
        "        self.answer_embedding = answer_embedding\n",
        "        self.lexical_embedding = lexical_embedding\n",
        "        \n",
        "        # Bidirectional GRU\n",
        "        self.gru = nn.GRU(embedding_size, hidden_size,\n",
        "                          num_layers=n_layers,\n",
        "                          dropout=dropout,\n",
        "                          bidirectional=True)\n",
        "        \n",
        "    def forward(self, input_sequence, input_lengths, answer_sequence, lexical_sequence):\n",
        "        \n",
        "        # Convert input_sequence to word embeddings\n",
        "        word_embeddings = self.embedding(input_sequence)\n",
        "        answer_embeddings = self.answer_embedding(answer_sequence)\n",
        "        lexical_embeddings = self.lexical_embedding(lexical_sequence)\n",
        "        final_embeddings = word_embeddings+answer_embeddings+lexical_embeddings\n",
        "        \n",
        "        # Pack the sequence of embeddings\n",
        "        packed_embeddings = nn.utils.rnn.pack_padded_sequence(final_embeddings, input_lengths)\n",
        "        \n",
        "        # Run the packed embeddings through the GRU, and then unpack the sequences\n",
        "        outputs, hidden = self.gru(packed_embeddings)\n",
        "        outputs, _ = nn.utils.rnn.pad_packed_sequence(outputs)\n",
        "        \n",
        "        \n",
        "        # The ouput of a GRU has shape (seq_len, batch, hidden_size * num_directions)\n",
        "        # Because the Encoder is bidirectional, combine the results from the \n",
        "        # forward and reversed sequence by simply adding them together.\n",
        "        outputs = outputs[:, :, :self.hidden_size] + outputs[:, : ,self.hidden_size:]\n",
        "\n",
        "        return outputs, hidden"
      ],
      "execution_count": 0,
      "outputs": []
    },
    {
      "cell_type": "markdown",
      "metadata": {
        "id": "1Rn-Kfz_7Z0X",
        "colab_type": "text"
      },
      "source": [
        "## **Decoder**"
      ]
    },
    {
      "cell_type": "code",
      "metadata": {
        "id": "uvbzSoHx7ZIx",
        "colab_type": "code",
        "colab": {}
      },
      "source": [
        "class Attention(nn.Module):\n",
        "    def __init__(self, hidden_size):\n",
        "        super(Attention, self).__init__()\n",
        "        \n",
        "        self.hidden_size = hidden_size\n",
        "        \n",
        "    def dot_score(self, hidden_state, encoder_states):\n",
        "\n",
        "        return torch.sum(hidden_state * encoder_states, dim=2)\n",
        "    \n",
        "    def forward(self, hidden, encoder_outputs, mask):\n",
        "        attn_scores = self.dot_score(hidden, encoder_outputs)\n",
        "\n",
        "        # Transpose max_length and batch_size dimensions\n",
        "        attn_scores = attn_scores.t()\n",
        "        \n",
        "        # Apply mask so network does not attend <pad> tokens        \n",
        "        attn_scores = attn_scores.masked_fill(mask == 0, -1e10)\n",
        "        \n",
        "        # Return softmax over attention scores      \n",
        "        return F.softmax(attn_scores, dim=1).unsqueeze(1)"
      ],
      "execution_count": 0,
      "outputs": []
    },
    {
      "cell_type": "code",
      "metadata": {
        "id": "JGyvb0nZZXfl",
        "colab_type": "code",
        "colab": {}
      },
      "source": [
        "class Decoder(nn.Module):\n",
        "    def __init__(self, embedding, embedding_size,\n",
        "                 hidden_size, output_size, n_layers, dropout):\n",
        "        \n",
        "        super(Decoder, self).__init__()\n",
        "        \n",
        "        # Basic network params\n",
        "        self.hidden_size = hidden_size\n",
        "        self.output_size = output_size\n",
        "        self.n_layers = n_layers\n",
        "        self.dropout = dropout\n",
        "        self.embedding = embedding\n",
        "                \n",
        "        self.gru = nn.GRU(embedding_size, hidden_size, n_layers, \n",
        "                          dropout=dropout)\n",
        "        \n",
        "        self.concat = nn.Linear(hidden_size * 2, hidden_size)\n",
        "        self.out = nn.Linear(hidden_size, output_size)\n",
        "        self.attn = Attention(hidden_size)\n",
        "        \n",
        "    def forward(self, current_token, hidden_state, encoder_outputs, mask):\n",
        "      \n",
        "        # convert current_token to word_embedding\n",
        "        embedded = self.embedding(current_token)\n",
        "        \n",
        "        # Pass through GRU\n",
        "        rnn_output, hidden_state = self.gru(embedded, hidden_state)\n",
        "        \n",
        "        # Calculate attention weights\n",
        "        attention_weights = self.attn(rnn_output, encoder_outputs, mask)\n",
        "        \n",
        "        # Calculate context vector\n",
        "        context = attention_weights.bmm(encoder_outputs.transpose(0, 1))\n",
        "        \n",
        "        # Concatenate  context vector and GRU output\n",
        "        rnn_output = rnn_output.squeeze(0)\n",
        "        context = context.squeeze(1)\n",
        "        concat_input = torch.cat((rnn_output, context), 1)\n",
        "        concat_output = torch.tanh(self.concat(concat_input))\n",
        "        \n",
        "        # Pass concat_output to final output layer\n",
        "        output = self.out(concat_output)\n",
        "        \n",
        "        # Return output and final hidden state\n",
        "        return output, hidden_state"
      ],
      "execution_count": 0,
      "outputs": []
    },
    {
      "cell_type": "markdown",
      "metadata": {
        "id": "ptOTxmouakIb",
        "colab_type": "text"
      },
      "source": [
        "## **Seq2Seq**"
      ]
    },
    {
      "cell_type": "code",
      "metadata": {
        "id": "1zGxEHwdaGtj",
        "colab_type": "code",
        "colab": {}
      },
      "source": [
        "class seq2seq(nn.Module):\n",
        "    def __init__(self, embedding_size, hidden_size, vocab_size, \n",
        "                 device, pad_idx, eos_idx, sos_idx, teacher_forcing_ratio=0.5):\n",
        "        super(seq2seq, self).__init__()\n",
        "        \n",
        "        # Embedding layer shared by encoder and decoder\n",
        "        self.embedding = nn.Embedding(vocab_size, embedding_size)\n",
        "        self.answer_embedding = nn.Embedding(6, embedding_size, padding_idx=1)\n",
        "        self.lexical_embedding = nn.Embedding(452, embedding_size, padding_idx=1)\n",
        "        \n",
        "        # Encoder network\n",
        "        self.encoder = Encoder(hidden_size, \n",
        "                               embedding_size, \n",
        "                               self.embedding,\n",
        "                               self.answer_embedding,\n",
        "                               self.lexical_embedding,\n",
        "                               n_layers=2,\n",
        "                               dropout=0.5)\n",
        "        \n",
        "        # Decoder network        \n",
        "        self.decoder = Decoder(self.embedding,\n",
        "                               embedding_size,\n",
        "                               hidden_size,\n",
        "                               vocab_size,\n",
        "                               n_layers=2,\n",
        "                               dropout=0.5)\n",
        "        \n",
        "        \n",
        "        # Indices of special tokens and hardware device \n",
        "        self.pad_idx = pad_idx\n",
        "        self.eos_idx = eos_idx\n",
        "        self.sos_idx = sos_idx\n",
        "        self.device = device\n",
        "        \n",
        "    def create_mask(self, input_sequence):\n",
        "\n",
        "        return (input_sequence != self.pad_idx).permute(1, 0)\n",
        "        \n",
        "    def forward(self, input_sequence, answer_sequence, lexical_sequence, output_sequence, teacher_forcing_ratio):\n",
        "      \n",
        "        # Unpack input_sequence tuple\n",
        "        input_tokens = input_sequence[0]\n",
        "        input_lengths = input_sequence[1]\n",
        "      \n",
        "        # Unpack output_tokens, or create an empty tensor for text generation\n",
        "        if output_sequence is None:\n",
        "            inference = True\n",
        "            output_tokens = torch.zeros((100, input_tokens.shape[1])).long().fill_(self.sos_idx).to(self.device)\n",
        "        else:\n",
        "            inference = False\n",
        "            output_tokens = output_sequence[0]\n",
        "        \n",
        "        vocab_size = self.decoder.output_size\n",
        "        \n",
        "        batch_size = len(input_lengths)\n",
        "        max_seq_len = len(output_tokens)\n",
        "        \n",
        "        #tensor to store decoder outputs\n",
        "        outputs = torch.zeros(max_seq_len, batch_size, vocab_size).to(self.device)\n",
        "        \n",
        "        # Pass through the first half of the network\n",
        "        encoder_outputs, hidden = self.encoder(input_tokens, input_lengths, answer_sequence, lexical_sequence)\n",
        "        \n",
        "        # Ensure dim of hidden_state can be fed into Decoder\n",
        "        hidden =  hidden[:self.decoder.n_layers]\n",
        "        \n",
        "        #first input to the decoder is the <sos> tokens\n",
        "        output = output_tokens[0,:]\n",
        "        \n",
        "        # Create mask\n",
        "        mask = self.create_mask(input_tokens)\n",
        "        \n",
        "        # Step through the length of the output sequence one token at a time\n",
        "        # Teacher forcing is used to assist training\n",
        "        for t in range(1, max_seq_len):\n",
        "            output = output.unsqueeze(0)\n",
        "            \n",
        "            output, hidden = self.decoder(output, hidden, encoder_outputs, mask)\n",
        "            outputs[t] = output\n",
        "            teacher_force = random.random() < teacher_forcing_ratio\n",
        "            top1 = output.max(1)[1]\n",
        "            output = (output_tokens[t] if teacher_force else top1)\n",
        "            \n",
        "            # If we're in inference mode, keep generating until we produce an\n",
        "            # <eos> token\n",
        "            if inference and output.item() == self.eos_idx:\n",
        "                return outputs[:t]\n",
        "        \n",
        "        return outputs"
      ],
      "execution_count": 0,
      "outputs": []
    },
    {
      "cell_type": "code",
      "metadata": {
        "id": "Rmk2T_7Ddr_b",
        "colab_type": "code",
        "colab": {}
      },
      "source": [
        "pad_idx = TEXT.vocab.stoi['<pad>']\n",
        "eos_idx = TEXT.vocab.stoi['<eos>']\n",
        "sos_idx = TEXT.vocab.stoi['<sos>']\n",
        "\n",
        "# Size of embedding_dim should match the dim of pre-trained word embeddings\n",
        "embedding_dim = 300\n",
        "hidden_dim = 512\n",
        "vocab_size = len(TEXT.vocab)\n",
        "model = seq2seq(embedding_dim,\n",
        "                 hidden_dim, \n",
        "                 vocab_size, \n",
        "                 device, pad_idx, eos_idx, sos_idx).to(device)\n",
        "pretrained_embeddings = TEXT.vocab.vectors\n",
        "model.embedding.weight.data.copy_(pretrained_embeddings)\n",
        "UNK_IDX = TEXT.vocab.stoi[TEXT.unk_token]\n",
        "model.embedding.weight.data[UNK_IDX] = torch.zeros(embedding_dim)\n",
        "model.embedding.weight.data[pad_idx] = torch.zeros(embedding_dim)\n",
        "model.embedding.weight.requires_grad = False\n",
        "optimizer = optim.Adam([param for param in model.parameters() if param.requires_grad == True], \n",
        "                       lr=1.0e-3)\n",
        "criterion = nn.CrossEntropyLoss(ignore_index = pad_idx)"
      ],
      "execution_count": 0,
      "outputs": []
    },
    {
      "cell_type": "code",
      "metadata": {
        "id": "lm8KaxIBfbrM",
        "colab_type": "code",
        "colab": {}
      },
      "source": [
        "def train(model, iterator, criterion, optimizer, clip):\n",
        "    # Put the model in training mode\n",
        "    model.train()\n",
        "    \n",
        "    epoch_loss = 0\n",
        "    \n",
        "    for idx, batch in tqdm(enumerate(iterator), total=len(iterator)):\n",
        "        \n",
        "        input_sequence = batch.context\n",
        "        answer_sequence = batch.bio\n",
        "        output_sequence = batch.question\n",
        "        lexical_sequence = batch.lex\n",
        "        \n",
        "        target_tokens = output_sequence[0]\n",
        "        \n",
        "        # zero out the gradient for the current batch\n",
        "        optimizer.zero_grad()\n",
        "        \n",
        "        # Run the batch through our model\n",
        "        output = model(input_sequence, answer_sequence, lexical_sequence, output_sequence, 0.5)\n",
        "        \n",
        "        # Throw it through our loss function\n",
        "        output = output[1:].view(-1, output.shape[-1])\n",
        "        target_tokens = target_tokens[1:].view(-1)\n",
        "        \n",
        "        loss = criterion(output, target_tokens)\n",
        "        \n",
        "        # Perform back-prop and calculate the gradient of our loss function\n",
        "        loss.backward()\n",
        "          \n",
        "        # Clip the gradient if necessary.          \n",
        "        torch.nn.utils.clip_grad_norm_(model.parameters(), clip)\n",
        "        \n",
        "        # Update model parameters\n",
        "        optimizer.step()\n",
        "        \n",
        "        epoch_loss += loss.item()\n",
        "        \n",
        "    return epoch_loss / len(iterator)"
      ],
      "execution_count": 0,
      "outputs": []
    },
    {
      "cell_type": "code",
      "metadata": {
        "id": "vlLaZbByYbfN",
        "colab_type": "code",
        "colab": {}
      },
      "source": [
        "def evaluate(model, iterator, criterion):\n",
        "    \n",
        "    model.eval()\n",
        "    \n",
        "    epoch_loss = 0\n",
        "    \n",
        "    with torch.no_grad():\n",
        "    \n",
        "        for idx, batch in tqdm(enumerate(iterator), total=len(iterator)):\n",
        "\n",
        "            input_sequence = batch.context\n",
        "            answer_sequence = batch.bio\n",
        "            output_sequence = batch.question\n",
        "            lexical_sequence = batch.lex\n",
        "            \n",
        "            target_tokens = output_sequence[0]\n",
        "            \n",
        "            output = model(input_sequence, answer_sequence, lexical_sequence, output_sequence, 0)\n",
        "            \n",
        "            output = output[1:].view(-1, output.shape[-1])\n",
        "            target_tokens = target_tokens[1:].view(-1)\n",
        "\n",
        "            loss = criterion(output, target_tokens)\n",
        "\n",
        "            epoch_loss += loss.item()\n",
        "        \n",
        "    return epoch_loss / len(iterator)"
      ],
      "execution_count": 0,
      "outputs": []
    },
    {
      "cell_type": "code",
      "metadata": {
        "id": "NtpUO5ZGhDpN",
        "colab_type": "code",
        "outputId": "e521c494-cb09-4be2-a7bf-8ba004cb26f5",
        "colab": {
          "base_uri": "https://localhost:8080/",
          "height": 857
        }
      },
      "source": [
        "N_EPOCHS = 10\n",
        "CLIP = 1\n",
        "\n",
        "best_valid_loss = float('inf')\n",
        "\n",
        "for epoch in range(N_EPOCHS):\n",
        "    \n",
        "    train_loss = train(model, train_iterator, criterion, optimizer, CLIP)\n",
        "    valid_loss = evaluate(model, valid_iterator, criterion)\n",
        "\n",
        "    if valid_loss < best_valid_loss:\n",
        "        best_valid_loss = valid_loss\n",
        "        torch.save(model.state_dict(), 'model.pt')\n",
        "\n",
        "    print('Epoch: ', epoch)\n",
        "    print('train loss: ', train_loss)\n",
        "    print('valid loss: ', valid_loss)"
      ],
      "execution_count": 23,
      "outputs": [
        {
          "output_type": "stream",
          "text": [
            "100%|██████████| 1019/1019 [12:05<00:00,  1.26it/s]\n",
            "100%|██████████| 47/47 [00:16<00:00,  2.53it/s]\n",
            "  0%|          | 0/1019 [00:00<?, ?it/s]"
          ],
          "name": "stderr"
        },
        {
          "output_type": "stream",
          "text": [
            "Epoch:  0\n",
            "train loss:  5.739740393229626\n",
            "valid loss:  5.896215438842773\n"
          ],
          "name": "stdout"
        },
        {
          "output_type": "stream",
          "text": [
            "100%|██████████| 1019/1019 [12:05<00:00,  1.36it/s]\n",
            "100%|██████████| 47/47 [00:16<00:00,  2.51it/s]\n",
            "  0%|          | 0/1019 [00:00<?, ?it/s]"
          ],
          "name": "stderr"
        },
        {
          "output_type": "stream",
          "text": [
            "Epoch:  1\n",
            "train loss:  5.070764247755775\n",
            "valid loss:  5.67579921762994\n"
          ],
          "name": "stdout"
        },
        {
          "output_type": "stream",
          "text": [
            "100%|██████████| 1019/1019 [12:05<00:00,  1.45it/s]\n",
            "100%|██████████| 47/47 [00:15<00:00,  2.55it/s]\n",
            "  0%|          | 0/1019 [00:00<?, ?it/s]"
          ],
          "name": "stderr"
        },
        {
          "output_type": "stream",
          "text": [
            "Epoch:  2\n",
            "train loss:  4.685238422191646\n",
            "valid loss:  5.731185486976137\n"
          ],
          "name": "stdout"
        },
        {
          "output_type": "stream",
          "text": [
            "100%|██████████| 1019/1019 [12:04<00:00,  1.60it/s]\n",
            "100%|██████████| 47/47 [00:16<00:00,  2.56it/s]\n",
            "  0%|          | 0/1019 [00:00<?, ?it/s]"
          ],
          "name": "stderr"
        },
        {
          "output_type": "stream",
          "text": [
            "Epoch:  3\n",
            "train loss:  4.399792373823815\n",
            "valid loss:  5.681539890613962\n"
          ],
          "name": "stdout"
        },
        {
          "output_type": "stream",
          "text": [
            "100%|██████████| 1019/1019 [12:05<00:00,  1.50it/s]\n",
            "100%|██████████| 47/47 [00:16<00:00,  2.54it/s]\n",
            "  0%|          | 0/1019 [00:00<?, ?it/s]"
          ],
          "name": "stderr"
        },
        {
          "output_type": "stream",
          "text": [
            "Epoch:  4\n",
            "train loss:  4.167346282842933\n",
            "valid loss:  5.657527669947198\n"
          ],
          "name": "stdout"
        },
        {
          "output_type": "stream",
          "text": [
            "100%|██████████| 1019/1019 [12:06<00:00,  1.57it/s]\n",
            "100%|██████████| 47/47 [00:16<00:00,  2.55it/s]\n",
            "  0%|          | 0/1019 [00:00<?, ?it/s]"
          ],
          "name": "stderr"
        },
        {
          "output_type": "stream",
          "text": [
            "Epoch:  5\n",
            "train loss:  3.9837876007297206\n",
            "valid loss:  5.726515313412281\n"
          ],
          "name": "stdout"
        },
        {
          "output_type": "stream",
          "text": [
            "100%|██████████| 1019/1019 [12:07<00:00,  1.38it/s]\n",
            "100%|██████████| 47/47 [00:15<00:00,  2.58it/s]\n",
            "  0%|          | 0/1019 [00:00<?, ?it/s]"
          ],
          "name": "stderr"
        },
        {
          "output_type": "stream",
          "text": [
            "Epoch:  6\n",
            "train loss:  3.8230671206447164\n",
            "valid loss:  5.77486193433721\n"
          ],
          "name": "stdout"
        },
        {
          "output_type": "stream",
          "text": [
            "100%|██████████| 1019/1019 [12:06<00:00,  1.46it/s]\n",
            "100%|██████████| 47/47 [00:16<00:00,  2.53it/s]\n",
            "  0%|          | 0/1019 [00:00<?, ?it/s]"
          ],
          "name": "stderr"
        },
        {
          "output_type": "stream",
          "text": [
            "Epoch:  7\n",
            "train loss:  3.697763823433409\n",
            "valid loss:  5.790201430625104\n"
          ],
          "name": "stdout"
        },
        {
          "output_type": "stream",
          "text": [
            "100%|██████████| 1019/1019 [12:06<00:00,  1.28it/s]\n",
            "100%|██████████| 47/47 [00:16<00:00,  2.55it/s]\n",
            "  0%|          | 0/1019 [00:00<?, ?it/s]"
          ],
          "name": "stderr"
        },
        {
          "output_type": "stream",
          "text": [
            "Epoch:  8\n",
            "train loss:  3.6003199742048597\n",
            "valid loss:  5.833341395601313\n"
          ],
          "name": "stdout"
        },
        {
          "output_type": "stream",
          "text": [
            "100%|██████████| 1019/1019 [12:06<00:00,  1.47it/s]\n",
            "100%|██████████| 47/47 [00:16<00:00,  2.55it/s]"
          ],
          "name": "stderr"
        },
        {
          "output_type": "stream",
          "text": [
            "Epoch:  9\n",
            "train loss:  3.5156156209546987\n",
            "valid loss:  5.882832547451588\n"
          ],
          "name": "stdout"
        },
        {
          "output_type": "stream",
          "text": [
            "\n"
          ],
          "name": "stderr"
        }
      ]
    },
    {
      "cell_type": "code",
      "metadata": {
        "id": "8aeybgqAcqy9",
        "colab_type": "code",
        "colab": {
          "base_uri": "https://localhost:8080/",
          "height": 50
        },
        "outputId": "0081b13d-1227-4179-afc9-6cbdde1c811f"
      },
      "source": [
        "# model.load_state_dict(torch.load('model.pt'))\n",
        "\n",
        "test_loss = evaluate(model, test_iterator, criterion)\n",
        "\n",
        "print(f'Test Loss: {test_loss:.3f}')"
      ],
      "execution_count": 31,
      "outputs": [
        {
          "output_type": "stream",
          "text": [
            "100%|██████████| 47/47 [00:16<00:00,  2.42it/s]"
          ],
          "name": "stderr"
        },
        {
          "output_type": "stream",
          "text": [
            "Test Loss: 5.851\n"
          ],
          "name": "stdout"
        },
        {
          "output_type": "stream",
          "text": [
            "\n"
          ],
          "name": "stderr"
        }
      ]
    },
    {
      "cell_type": "code",
      "metadata": {
        "id": "zhHyPaVQno1A",
        "colab_type": "code",
        "colab": {}
      },
      "source": [
        "def translate_sentence(model, paragraph, answer_pos, lex_features):\n",
        "    model.eval()\n",
        "    \n",
        "    tokenized = ['<sos>'] + paragraph + ['<eos>']\n",
        "    numericalized = [TEXT.vocab.stoi[t] for t in tokenized] \n",
        "\n",
        "    tokenized_answer = ['<sos>'] + answer_pos + ['<eos>']\n",
        "    numericalized_answer = [BIO.vocab.stoi[t] for t in tokenized_answer] \n",
        "\n",
        "    tokenized_lex = ['<sos>'] + lex_features + ['<eos>']\n",
        "    numericalized_lex = [LEX.vocab.stoi[t] for t in tokenized_lex]\n",
        "    \n",
        "    paragraph_length = torch.LongTensor([len(numericalized)]).to(model.device) \n",
        "    tensor = torch.LongTensor(numericalized).unsqueeze(1).to(model.device) \n",
        " \n",
        "    answer_tensor = torch.LongTensor(numericalized_answer).unsqueeze(1).to(model.device) \n",
        "    lex_tensor = torch.LongTensor(numericalized_lex).unsqueeze(1).to(model.device)\n",
        "    \n",
        "    question_tensor_logits = model((tensor, paragraph_length), answer_tensor, lex_tensor, None, 0) \n",
        "    \n",
        "    question_tensor = torch.argmax(question_tensor_logits.squeeze(1), 1)\n",
        "    question = [TEXT.vocab.itos[t] for t in question_tensor]\n",
        " \n",
        "    # Start at the first index.  We don't need to return the <sos> token\n",
        "    question = question[1:]\n",
        "\n",
        "    return question, question_tensor_logits"
      ],
      "execution_count": 0,
      "outputs": []
    },
    {
      "cell_type": "code",
      "metadata": {
        "id": "ynVtLi8zoUDy",
        "colab_type": "code",
        "colab": {
          "base_uri": "https://localhost:8080/",
          "height": 1000
        },
        "outputId": "931bfb1e-2868-4665-f87b-c7f05b34cf9d"
      },
      "source": [
        "example_idx = 300\n",
        "\n",
        "for i in range(200, example_idx+1):\n",
        "\n",
        "  src = vars(train_data.examples[i])['context']\n",
        "  trg = vars(train_data.examples[i])['question']\n",
        "  ans = vars(train_data.examples[i])['bio']\n",
        "  lex = vars(train_data.examples[i])['lex']\n",
        "\n",
        "  print('src: ', ' '.join(src))\n",
        "  print('trg: ', ' '.join(trg))\n",
        "\n",
        "  question, logits = translate_sentence(model, src, ans, lex)\n",
        "  print('predicted: ', \" \".join(question))\n",
        "  print()"
      ],
      "execution_count": 37,
      "outputs": [
        {
          "output_type": "stream",
          "text": [
            "src:  at the 52nd annual grammy awards , beyoncé received ten ominations , including album of the year for i am ... sasha fierce , record of the year for \" halo \" , and song of the year for \" single ladies ( put a ring on it ) \" , among others . she tied with lauryn hill for most grammy nominations in a single year by a female artist . in 2010 , beyoncé was featured on lady gaga 's single \" telephone \" and its music video . the song topped the us pop songs chart , becoming the sixth number - one for both beyoncé and gaga , tying them with mariah carey for most number - ones since the nielsen top 40 airplay chart launched in 1992 . \" telephone \" received a grammy award nomination for best pop collaboration with vocals .\n",
            "trg:  how many awards was beyonce nominated for at the 52nd grammy awards ?\n",
            "predicted:  how many awards did beyoncé receive in the 52nd grammy awards ?\n",
            "\n",
            "src:  at the 52nd annual grammy awards , beyoncé received ten nominations , including album of the year for i am ... sasha fierce , record of the year for \" halo \" , and song of the year for \" single ladies ( put a ring on it ) \" , among others . she tied with lauryn hill or most grammy nominations in a single year by a female artist . in 2010 , beyoncé was featured on lady gaga 's single \" telephone \" and its music video . the song topped the us pop songs chart , becoming the sixth number - one for both beyoncé and gaga , tying them with mariah carey for most number - ones since the nielsen top 40 airplay chart launched in 1992 . \" telephone \" received a grammy award nomination for best pop collaboration with vocals .\n",
            "trg:  beyonce tied with which artist for most nominations by a female artist ?\n",
            "predicted:  beyonce 's the first grammy awards which artist ?\n",
            "\n",
            "src:  at the 52nd annual grammy awards , beyoncé received ten nominations , including album of the year for i am ... sasha fierce , record of the year for \" halo \" , and song of the year for \" single ladies ( put a ring on it ) \" , among others . she tied with lauryn hill for most grammy nominations in a single year by a female artist . in 2010 , beyoncé was featured on lady gaga ' single \" telephone \" and its music video . the song topped the us pop songs chart , becoming the sixth number - one for both beyoncé and gaga , tying them with mariah carey for most number - ones since the nielsen top 40 airplay chart launched in 1992 . \" telephone \" received a grammy award nomination for best pop collaboration with vocals .\n",
            "trg:  in 2010 , beyonce worked with which other famous singer ?\n",
            "predicted:  beyonce 's singer was on the top on what artist ?\n",
            "\n",
            "src:  at the 52nd annual grammy awards , beyoncé received ten nominations , including album of the year for i am ... sasha fierce , record of the year for \" halo \" , and song of the year for \" single ladies ( put a ring on it ) \" , among others . she tied with lauryn hill for most grammy nominations in a single year by a female artist . in 2010 , beyoncé was featured on lady gaga 's single \" telephone \" and its music video . the song topped the us pop songs chart , becoming the sixt number - one for both beyoncé and gaga , tying them with mariah carey for most number - ones since the nielsen top 40 airplay chart launched in 1992 . \" telephone \" received a grammy award nomination for best pop collaboration with vocals .\n",
            "trg:  how many number one singles did beyonce now have after the song \" telephone \" ?\n",
            "predicted:  what was the name of the billboard number number of the billboard charts charts ?\n",
            "\n",
            "src:  at the 52nd annual grammy awards , beyoncé received ten nominations , including album of the year for i am ... sasha fierce , record of the year for \" halo \" , and song of the year for \" single ladies ( put a ring on it ) \" , among others . she tied with lauryn hill for most grammy nominations in a single year by a female artist . in 2010 , beyoncé was featured on lady gaga 's single \" telephone \" and its music video . the song topped the us pop songs chart , becoming the sixth number - one for both beyoncé and gaga , tying them with mariah carey or most number - ones since the nielsen top 40 airplay chart launched in 1992 . \" telephone \" received a grammy award nomination for best pop collaboration with vocals .\n",
            "trg:  beyonce tied who for most number one singles by a female ?\n",
            "predicted:  who did beyoncé tie with the top number of the top grammy ?\n",
            "\n",
            "src:  at the 52nd annual grammy awards , beyoncé received ten nominations , including album of the year for i am ... sasha fierce , record of the year for \" halo \" , and song of the year for \" single ladies ( put a ring on it ) \" , among others . she tied with lauryn hill for most grammy nominations in a single year by a female artist . in 2010 , beyoncé was featured on lady gaga 's single \" telephone \" and its music video . the song topped the us pop songs chart , becoming the sixth number - one for both beyoncé and gaga , tying them with mariah carey for most number - ones since the nielsen top 40 airplay chart launched in 1992 . \" telephone \" received a grammy award nomination for best pop collaboration with vocals .\n",
            "trg:  beyonce received how many nominations at the 52nd annual grammy awards ?\n",
            "predicted:  how many awards did beyoncé receive in the 52nd grammy awards ?\n",
            "\n",
            "src:  at the 52nd annual grammy awards , beyoncé received ten nominations , including album of the year for i am ... sasha fierce , record of the year for \" halo \" , and song of the year for \" single ladies ( put a ring on it ) \" , among others . she tied with lauryn hill for most grammy nominations in a single year by a female artist . in 2010 , beyoncé was featured on lady gaga 's single \" telephone \" and its music video . the song topped the us pop songs chart , becoming the sixth number - one for both beyoncé and gaga , tying them with mariah carey for most number - ones since the nielsen top 40 airplay chart launched in 1992 . \" telephone \" received a grammy award nomination for best pop collaboration with vocals .\n",
            "trg:  what song was the sixth first place song for beyonce ?\n",
            "predicted:  what was the name of the 's grammy released ?\n",
            "\n",
            "src:  at the 52nd annual grammy awards , beyoncé received ten nominations , including album of the year for i am ... sasha fierce , record of the year for \" halo \" , and song of the year for \" single ladies ( put a ring on it ) \" , among others . she tied with lauryn hill for most grammy nominations in a single year by a female artist . in 2010 , beyoncé was featured on lady gaga ' single \" telephone \" and its music video . the song topped the us pop songs chart , becoming the sixth number - one for both beyoncé and gaga , tying them with mariah carey for most number - ones since the nielsen top 40 airplay chart launched in 1992 . \" telephone \" received a grammy award nomination for best pop collaboration with vocals .\n",
            "trg:  who else appeared with beyonce in telephone ?\n",
            "predicted:  beyonce 's singer was on the top on what artist ?\n",
            "\n",
            "src:  at the 52nd annual grammy awards , beyoncé received ten nominations , including album of the year for i am ... sasha fierce , record of the year for \" halo \" , and song of the year for \" single ladies ( put a ring on it ) \" , among others . she tied with lauryn hill for most grammy nominations in a single year by a female artist . in 2010 , beyoncé was featured on lady gaga 's single \" telephone \" and its music video . the song topped the us pop songs chart , becoming the sixth number - one for both beyoncé and gaga , tying them with mariah carey or most number - ones since the nielsen top 40 airplay chart launched in 1992 . \" telephone \" received a grammy award nomination for best pop collaboration with vocals .\n",
            "trg:  who did they tie with for six top songs ?\n",
            "predicted:  who did beyoncé tie with the top number of the top grammy ?\n",
            "\n",
            "src:  at the 52nd annual grammy awards , beyoncé received ten nominations , including album of the year for i am ... sasha fierce , record of the year for \" halo \" , and song of the year for \" single ladies ( put a ring on it ) \" , among others . she tied with lauryn hill or most grammy nominations in a single year by a female artist . in 2010 , beyoncé was featured on lady gaga 's single \" telephone \" and its music video . the song topped the us pop songs chart , becoming the sixth number - one for both beyoncé and gaga , tying them with mariah carey for most number - ones since the nielsen top 40 airplay chart launched in 1992 . \" telephone \" received a grammy award nomination for best pop collaboration with vocals .\n",
            "trg:  who did beyonce tie with for the most nominations in a year ?\n",
            "predicted:  beyonce 's the first grammy awards which artist ?\n",
            "\n",
            "src:  at the 52nd annual grammy awards , beyoncé received ten ominations , including album of the year for i am ... sasha fierce , record of the year for \" halo \" , and song of the year for \" single ladies ( put a ring on it ) \" , among others . she tied with lauryn hill for most grammy nominations in a single year by a female artist . in 2010 , beyoncé was featured on lady gaga 's single \" telephone \" and its music video . the song topped the us pop songs chart , becoming the sixth number - one for both beyoncé and gaga , tying them with mariah carey for most number - ones since the nielsen top 40 airplay chart launched in 1992 . \" telephone \" received a grammy award nomination for best pop collaboration with vocals .\n",
            "trg:  how many nominations did beyoncé receive at the 52nd grammy awards ceremony ?\n",
            "predicted:  how many awards did beyoncé receive in the 52nd grammy awards ?\n",
            "\n",
            "src:  at the 52nd annual grammy awards , beyoncé received ten nominations , including album of the year for i am ... sasha fierce , record of the year for \" halo \" , and song of the year for \" single ladies ( put a ring on it ) \" , among others . she tied with lauryn hill or most grammy nominations in a single year by a female artist . in 2010 , beyoncé was featured on lady gaga 's single \" telephone \" and its music video . the song topped the us pop songs chart , becoming the sixth number - one for both beyoncé and gaga , tying them with mariah carey for most number - ones since the nielsen top 40 airplay chart launched in 1992 . \" telephone \" received a grammy award nomination for best pop collaboration with vocals .\n",
            "trg:  who did beyoncé tie with for the most grammy nominations for female artists ?\n",
            "predicted:  beyonce 's the first grammy awards which artist ?\n",
            "\n",
            "src:  at the 52nd annual grammy awards , beyoncé received ten nominations , including album of the year for i am ... sasha fierce , record of the year for \" halo \" , and song of the year for \" single ladies ( put a ring on it ) \" , among others . she tied with lauryn hill for most grammy nominations in a single year by a female artist . in 2010 , beyoncé was featured on lady gaga ' single \" telephone \" and its music video . the song topped the us pop songs chart , becoming the sixth number - one for both beyoncé and gaga , tying them with mariah carey for most number - ones since the nielsen top 40 airplay chart launched in 1992 . \" telephone \" received a grammy award nomination for best pop collaboration with vocals .\n",
            "trg:  beyoncé was a featured artist on which singer 's hit , telephone ?\n",
            "predicted:  beyonce 's singer was on the top on what artist ?\n",
            "\n",
            "src:  at the 52nd annual grammy awards , beyoncé received ten nominations , including album of the year for i am ... sasha fierce , record of the year for \" halo \" , and song of the year for \" single ladies ( put a ring on it ) \" , among others . she tied with lauryn hill for most grammy nominations in a single year by a female artist . in 2010 , beyoncé was featured on lady gaga 's single \" telephone \" and its music video . the song topped the us pop songs chart , becoming the sixth number - one for both beyoncé and gaga , tying them with mariah carey or most number - ones since the nielsen top 40 airplay chart launched in 1992 . \" telephone \" received a grammy award nomination for best pop collaboration with vocals .\n",
            "trg:  who did beyoncé and lady gaga tie with for the most number one hits since 1992 ?\n",
            "predicted:  who did beyoncé tie with the top number of the top grammy ?\n",
            "\n",
            "src:  beyoncé announced a hiatus from her music career in january 2010 , heeding her mother 's advice , \" to live life , to be inspired by things again \" . during the break she and her father parted ways as business partners . beyoncé 's musical break lasted nine months and saw her visit multiple european cities , the great wall of china , the egyptian pyramids , australia , english music festivals and various museums and ballet performances .\n",
            "trg:  beyonce would take a break from music in which year ?\n",
            "predicted:  when did beyoncé 's her ?\n",
            "\n",
            "src:  beyoncé announced a hiatus from her music career in january 2010 , heeding her mother 's advice , \" to live life , to be inspired by things again \" . during the break she and her father parted ways as business partners . beyoncé 's musical break lasted nine months and saw her visit multiple european cities , the great wall of china , the egyptian pyramids , australia , english music festivals and various museums and ballet performances .\n",
            "trg:  which year did beyonce and her father part business ways ?\n",
            "predicted:  when did beyoncé 's her ?\n",
            "\n",
            "src:  beyoncé announced a hiatus from her music career in january 2010 , heeding her mother 's advice , \" to live life , to be inspired by things again \" . during the break she and her father parted ways as business partners . beyoncé 's musical break lasted nine months and saw her visit multiple european cities , the great wall of china , the egyptian pyramids , australia , english music festivals and various museums and ballet performances .\n",
            "trg:  which famous landmark did beyonce see in china ?\n",
            "predicted:  what did kanye west 's to his tour ?\n",
            "\n",
            "src:  beyoncé announced a hiatus from her music career in january 2010 , heeding her mother 's advice , \" to live life , to be inspired by things again \" . during the break she and her father parted ways as business partners . beyoncé 's musical break lasted nine months and saw her visit multiple european cities , the great wall of china , the egyptian pyramids , australia , english music festivals and various museums and ballet performances .\n",
            "trg:  in what year did beyonce have her hiatus ?\n",
            "predicted:  when did beyoncé 's her ?\n",
            "\n",
            "src:  beyoncé announced a hiatus from her music career in january 2010 , heeding her mother ' advice , \" to live life , to be inspired by things again \" . during the break she and her father parted ways as business partners . beyoncé 's musical break lasted nine months and saw her visit multiple european cities , the great wall of china , the egyptian pyramids , australia , english music festivals and various museums and ballet performances .\n",
            "trg:  who inspired this hiatus ?\n",
            "predicted:  what did beyoncé 's in her ?\n",
            "\n",
            "src:  beyoncé announced a hiatus from her music career in january 2010 , heeding her mother 's advice , \" to live life , to be inspired by things again \" . during the break he and her father parted ways as business partners . beyoncé 's musical break lasted nine months and saw her visit multiple european cities , the great wall of china , the egyptian pyramids , australia , english music festivals and various museums and ballet performances .\n",
            "trg:  when did she stop using her father as a manager ?\n",
            "predicted:  when did she paid her the fashion ?\n",
            "\n",
            "src:  beyoncé announced a hiatus from her music career in january 2010 , heeding her mother 's advice , \" to live life , to be inspired by things again \" . during the break she and her father parted ways as business partners . beyoncé 's musical break lasted nine months nd saw her visit multiple european cities , the great wall of china , the egyptian pyramids , australia , english music festivals and various museums and ballet performances .\n",
            "trg:  how long did the hiatus last ?\n",
            "predicted:  how long did the hiatus of her hiatus ?\n",
            "\n",
            "src:  beyoncé announced a hiatus rom her music career in january 2010 , heeding her mother 's advice , \" to live life , to be inspired by things again \" . during the break she and her father parted ways as business partners . beyoncé 's musical break lasted nine months and saw her visit multiple european cities , the great wall of china , the egyptian pyramids , australia , english music festivals and various museums and ballet performances .\n",
            "trg:  what did beyoncé announce in january 2010 ?\n",
            "predicted:  what did beyoncé receive her first week ?\n",
            "\n",
            "src:  beyoncé announced a hiatus from her music career in january 2010 , heeding her mother ' advice , \" to live life , to be inspired by things again \" . during the break she and her father parted ways as business partners . beyoncé 's musical break lasted nine months and saw her visit multiple european cities , the great wall of china , the egyptian pyramids , australia , english music festivals and various museums and ballet performances .\n",
            "trg:  who suggested the hiatus for beyoncé ?\n",
            "predicted:  what did beyoncé 's in her ?\n",
            "\n",
            "src:  beyoncé announced a hiatus from her music career in january 2010 , heeding her mother 's advice , \" to live life , to be inspired by things again \" . during the break she and her father arted ways as business partners . beyoncé 's musical break lasted nine months and saw her visit multiple european cities , the great wall of china , the egyptian pyramids , australia , english music festivals and various museums and ballet performances .\n",
            "trg:  who did beyoncé part ways with during her hiatus ?\n",
            "predicted:  who did beyoncé 's the the in the ?\n",
            "\n",
            "src:  beyoncé announced a hiatus from her music career in january 2010 , heeding her mother 's advice , \" to live life , to be inspired by things again \" . during the break she and her father parted ways as business partners . beyoncé 's musical break lasted nine months nd saw her visit multiple european cities , the great wall of china , the egyptian pyramids , australia , english music festivals and various museums and ballet performances .\n",
            "trg:  how long did her hiatus last ?\n",
            "predicted:  how long did the hiatus of her hiatus ?\n",
            "\n",
            "src:  in 2011 , documents obtained by wikileaks revealed that beyoncé was one of many entertainers who performed for the family of libyan ruler muammar gaddafi . rolling stone reported that the music industry was urging them to return the money they earned for the concerts ; a spokesperson for beyoncé later confirmed to the huffington post that she donated the money to the clinton bush haiti fund . later that year she became the first solo female artist to headline the main pyramid stage at the 2011 glastonbury festival in over twenty years , and was named the highest - paid performer in the world per minute .\n",
            "trg:  in which year was reports about beyonce performing for muammar gaddafi surface ?\n",
            "predicted:  in what year did beyonce 's a endorsement of her child ?\n",
            "\n",
            "src:  in 2011 , documents obtained by wikileaks revealed that beyoncé was one of many entertainers who performed for the family of libyan ruler muammar gaddafi . rolling stone reported that the music industry was urging them to return the money they earned for the concerts ; a spokesperson for beyoncé later confirmed to the huffington post that she donated the money to the clinton bush haiti fund . later that year she became the first solo female artist to headline the main pyramid stage at the 2011 glastonbury festival in over twenty years , and was named the highest - paid performer in the world per minute .\n",
            "trg:  who did beyonce donate the money to earned from her shows ?\n",
            "predicted:  what did did beyoncé donate to the ?\n",
            "\n",
            "src:  in 2011 , documents obtained by wikileaks revealed that beyoncé was one of many entertainers who performed for the family of libyan ruler muammar gaddafi . rolling stone reported that the music industry was urging them to return the money they earned for the concerts ; a spokesperson for beyoncé later confirmed to the huffington post that she donated the money to the clinton bush haiti fund . later that year she became the first solo female artist to headline the main pyramid stage at the 2011 glastonbury festival n over twenty years , and was named the highest - paid performer in the world per minute .\n",
            "trg:  beyonce became the first female artist to perform solo in 20 years at which stage ?\n",
            "predicted:  what was the first of the 's first ?\n",
            "\n",
            "src:  in 2011 , documents obtained by wikileaks revealed that beyoncé was one of many entertainers who performed for the family of libyan ruler muammar gaddafi . rolling stone reported that the music industry was urging them to return the money they earned for the concerts ; a spokesperson for beyoncé later confirmed to the huffington post hat she donated the money to the clinton bush haiti fund . later that year she became the first solo female artist to headline the main pyramid stage at the 2011 glastonbury festival in over twenty years , and was named the highest - paid performer in the world per minute .\n",
            "trg:  which organization did beyonce 's spokespeople confirm her donations to ?\n",
            "predicted:  what award did beyoncé donate in the ?\n",
            "\n",
            "src:  in 2011 , documents obtained by wikileaks revealed that beyoncé was one of many entertainers who performed for the family of libyan ruler muammar gaddafi . rolling stone reported that the music industry was urging them to return the money they earned for the concerts ; a spokesperson for beyoncé later confirmed to the huffington post that she donated the money to the clinton bush haiti fund . later that year she became the first solo female artist to headline the main pyramid stage at the 2011 glastonbury festival in over twenty years , and was named the highest - paid performer in the world per minute .\n",
            "trg:  beyonce was listed in 2011 as the highest paid performer per what ?\n",
            "predicted:  what was the first week that beyoncé was the first ?\n",
            "\n",
            "src:  in 2011 , documents obtained by wikileaks evealed that beyoncé was one of many entertainers who performed for the family of libyan ruler muammar gaddafi . rolling stone reported that the music industry was urging them to return the money they earned for the concerts ; a spokesperson for beyoncé later confirmed to the huffington post that she donated the money to the clinton bush haiti fund . later that year she became the first solo female artist to headline the main pyramid stage at the 2011 glastonbury festival in over twenty years , and was named the highest - paid performer in the world per minute .\n",
            "trg:  hoe did everyone learn that beyonce performed for kaddafi ?\n",
            "predicted:  what did beyoncé 's in the week after his death ?\n",
            "\n",
            "src:  in 2011 , documents obtained by wikileaks revealed that beyoncé was one of many entertainers who performed for the family of libyan ruler muammar gaddafi . rolling stone reported that the music industry was urging them to return the money they earned for the concerts ; a spokesperson for beyoncé later confirmed to the huffington post that she donated the money to the clinton bush haiti fund . later that year she became the first solo female artist to headline the main pyramid stage at the 2011 glastonbury festival in over twenty years , and was named the highest - paid performer in the world per minute .\n",
            "trg:  when did this leak happen ?\n",
            "predicted:  in what year did beyonce 's a endorsement of her child ?\n",
            "\n",
            "src:  in 2011 , documents obtained by wikileaks revealed that beyoncé was one of many entertainers who performed for the family of libyan ruler muammar gaddafi . rolling stone reported that the music industry was urging them to return the money they earned for the concerts ; a spokesperson for beyoncé later confirmed to the huffington post hat she donated the money to the clinton bush haiti fund . later that year she became the first solo female artist to headline the main pyramid stage at the 2011 glastonbury festival in over twenty years , and was named the highest - paid performer in the world per minute .\n",
            "trg:  who did she tell about the donation ?\n",
            "predicted:  what award did beyoncé donate in the ?\n",
            "\n",
            "src:  in 2011 , documents obtained by wikileaks revealed that beyoncé was one of many entertainers who performed for the family of libyan ruler muammar gaddafi . rolling stone reported that the music industry was urging them to return the money they earned for the concerts ; a spokesperson for beyoncé later confirmed to the huffington post that she donated the money to the clinton bush haiti fund . later that year she became the first solo female artist to headline the main pyramid stage at the 2011 glastonbury festival n over twenty years , and was named the highest - paid performer in the world per minute .\n",
            "trg:  where did beyonce perform in 2011 ?\n",
            "predicted:  where was the first first recorded ?\n",
            "\n",
            "src:  in 2011 , documents obtained by wikileaks revealed that beyoncé was one of many entertainers who performed for the family of libyan ruler muammar gaddafi . rolling stone reported that the music industry was urging them to return the money they earned for the concerts ; a spokesperson for beyoncé later confirmed to the huffington post that she donated the money to the clinton bush haiti fund . later that year she became the first solo female artist to headline the main pyramid stage at the 2011 glastonbury festival in over twenty years , and was named the highest - paid performer in the world per minute .\n",
            "trg:  who did beyoncé perform privately for in 2011 ?\n",
            "predicted:  who was the 's of the ?\n",
            "\n",
            "src:  in 2011 , documents obtained by wikileaks evealed that beyoncé was one of many entertainers who performed for the family of libyan ruler muammar gaddafi . rolling stone reported that the music industry was urging them to return the money they earned for the concerts ; a spokesperson for beyoncé later confirmed to the huffington post that she donated the money to the clinton bush haiti fund . later that year she became the first solo female artist to headline the main pyramid stage at the 2011 glastonbury festival in over twenty years , and was named the highest - paid performer in the world per minute .\n",
            "trg:  who released the information about beyoncé 's performance for the libyan ruler ?\n",
            "predicted:  who did beyoncé 's the the ?\n",
            "\n",
            "src:  in 2011 , documents obtained by wikileaks revealed that beyoncé was one of many entertainers who performed for the family of libyan ruler muammar gaddafi . rolling stone reported that the music industry was urging them to return the money they earned for the concerts ; a spokesperson for beyoncé later confirmed to the huffington post that she donated the money to the clinton bush haiti fund . later that year she became the first solo female artist to headline the main pyramid stage at the 2011 glastonbury festival in over twenty years , and was named the highest - paid performer in the world per minute .\n",
            "trg:  which organization did beyoncé donate her pay for the private performance to ?\n",
            "predicted:  what did did beyoncé donate to the ?\n",
            "\n",
            "src:  in 2011 , documents obtained by wikileaks revealed that beyoncé was one of many entertainers who performed for the family of libyan ruler muammar gaddafi . rolling stone reported that the music industry was urging them to return the money they earned for the concerts ; a spokesperson for beyoncé later confirmed to the huffington post that she donated the money to the clinton bush haiti fund . later that year she became the first solo female artist to headline the main pyramid stage t the 2011 glastonbury festival in over twenty years , and was named the highest - paid performer in the world per minute .\n",
            "trg:  beyoncé was the first female singer to headline what at the 2011 glastonbury festival ?\n",
            "predicted:  what was the first woman 's first album ?\n",
            "\n",
            "src:  her fourth studio album 4 was released on june 28 , 2011 n the us . 4 sold 310,000 copies in its first week and debuted atop the billboard 200 chart , giving beyoncé her fourth consecutive number - one album in the us . the album was preceded by two of its singles \" run the world ( girls ) \" and \" best thing i never had \" , which both attained moderate success . the fourth single \" love on top \" was a commercial success in the us . 4 also produced four other singles ; \" party \" , \" countdown \" , \" i care \" and \" end of time \" . \" eat , play , love \" , a cover story written by beyoncé for essence that detailed her 2010 career break , won her a writing award from the new york association of black journalists . in late 2011 , she took the stage at new york 's roseland ballroom for four nights of special performances : the 4 intimate nights with beyoncé concerts saw the performance of her 4 album to a standing room only .\n",
            "trg:  beyonce 's fourth album debuted in what year ?\n",
            "predicted:  what year was beyonce 's first album released ?\n",
            "\n",
            "src:  her fourth studio album 4 was released on june 28 , 2011 in the us . 4 sold 310,000 copies in its first week and debuted atop the billboard 200 chart , giving beyoncé her fourth consecutive number - one album in the us . the album was preceded by two of its singles \" run the world ( girls ) \" and \" best thing i never had \" , which both attained moderate success . the fourth single \" love on top \" was a commercial success in the us . 4 also produced four other singles ; \" party \" , \" countdown \" , \" i care \" and \" end of time \" . \" eat , play , love \" , a cover story written by beyoncé for essence that detailed her 2010 career break , won her a writing award from the new york association of black journalists . in late 2011 , she took the stage at new york 's roseland ballroom for four nights of special performances : the 4 intimate nights with beyoncé concerts saw the performance of her 4 album to a standing room only .\n",
            "trg:  which single had the most success from that album ?\n",
            "predicted:  what was the title of the 's tenth album ?\n",
            "\n",
            "src:  her fourth studio album 4 was released on june 28 , 2011 in the us . 4 sold 310,000 copies in its first week and debuted atop the billboard 200 chart , giving beyoncé her fourth consecutive number - one album in the us . the album was preceded by two of its singles \" run the world ( girls ) \" and \" best thing i never had \" , which both attained moderate success . the fourth single \" love on top \" was a commercial success in the us . 4 also produced four other singles ; \" party \" , \" countdown \" , \" i care \" and \" end of time \" . \" eat , play , love \" , a cover story written by beyoncé for essence that detailed her 2010 career break , won her a writing ward from the new york association of black journalists . in late 2011 , she took the stage at new york 's roseland ballroom for four nights of special performances : the 4 intimate nights with beyoncé concerts saw the performance of her 4 album to a standing room only .\n",
            "trg:  beyonce won an award for which activity in 2011 ?\n",
            "predicted:  what did beyoncé 's the the beautiful beautiful beautiful ?\n",
            "\n",
            "src:  her fourth studio album 4 was released on june 28 , 2011 in the us . 4 sold 310,000 copies in its first week and debuted atop the billboard 200 chart , giving beyoncé her fourth consecutive number - one album in the us . the album was preceded by two of its singles \" run the world ( girls ) \" and \" best thing i never had \" , which both attained moderate success . the fourth single \" love on top \" was a commercial success in the us . 4 also produced four other singles ; \" party \" , \" countdown \" , \" i care \" and \" end of time \" . \" eat , play , love \" , a cover story written by beyoncé for essence that detailed her 2010 career break , won her a writing award from the new york association of black journalists . in late 2011 , she took the stage at new york 's roseland ballroom or four nights of special performances : the 4 intimate nights with beyoncé concerts saw the performance of her 4 album to a standing room only .\n",
            "trg:  in 2011 , beyonce performed for four nights where ?\n",
            "predicted:  where did beyoncé perform in the summer ?\n",
            "\n",
            "src:  her fourth studio album 4 was released on june 28 , 2011 n the us . 4 sold 310,000 copies in its first week and debuted atop the billboard 200 chart , giving beyoncé her fourth consecutive number - one album in the us . the album was preceded by two of its singles \" run the world ( girls ) \" and \" best thing i never had \" , which both attained moderate success . the fourth single \" love on top \" was a commercial success in the us . 4 also produced four other singles ; \" party \" , \" countdown \" , \" i care \" and \" end of time \" . \" eat , play , love \" , a cover story written by beyoncé for essence that detailed her 2010 career break , won her a writing award from the new york association of black journalists . in late 2011 , she took the stage at new york 's roseland ballroom for four nights of special performances : the 4 intimate nights with beyoncé concerts saw the performance of her 4 album to a standing room only .\n",
            "trg:  when was beyonce 's forth album released ?\n",
            "predicted:  when was the first week on roseland roseland ?\n",
            "\n",
            "src:  her fourth studio album 4 was released on june 28 , 2011 in the us . 4 sold 310,000 copies n its first week and debuted atop the billboard 200 chart , giving beyoncé her fourth consecutive number - one album in the us . the album was preceded by two of its singles \" run the world ( girls ) \" and \" best thing i never had \" , which both attained moderate success . the fourth single \" love on top \" was a commercial success in the us . 4 also produced four other singles ; \" party \" , \" countdown \" , \" i care \" and \" end of time \" . \" eat , play , love \" , a cover story written by beyoncé for essence that detailed her 2010 career break , won her a writing award from the new york association of black journalists . in late 2011 , she took the stage at new york 's roseland ballroom for four nights of special performances : the 4 intimate nights with beyoncé concerts saw the performance of her 4 album to a standing room only .\n",
            "trg:  how many copies did the album sell in its first week ?\n",
            "predicted:  how many copies did beyoncé sell in the roseland ?\n",
            "\n",
            "src:  her fourth studio album 4 was released on june 28 , 2011 in the us . 4 sold 310,000 copies in its first week and debuted atop the billboard 200 chart , giving beyoncé her fourth consecutive number - one album in the us . the album was preceded by two of its singles \" run the world ( girls ) \" and \" best thing i never had \" , which both attained moderate success . the fourth single \" love on top \" was a commercial success in the us . 4 also produced four other singles ; \" party \" , \" countdown \" , \" i care \" and \" end of time \" . \" eat , play , love \" , a cover story written by beyoncé for essence that detailed her 2010 career break , won her a writing award from the new york association of black journalists . in late 2011 , she took the stage at new york 's roseland ballroom for four nights of special performances : the 4 intimate nights with beyoncé concerts saw the performance of her 4 album to a standing room only .\n",
            "trg:  who awarded beyonce and award for writing ?\n",
            "predicted:  what award did beyoncé sing in ?\n",
            "\n",
            "src:  her fourth studio album 4 was released on june 28 , 2011 n the us . 4 sold 310,000 copies in its first week and debuted atop the billboard 200 chart , giving beyoncé her fourth consecutive number - one album in the us . the album was preceded by two of its singles \" run the world ( girls ) \" and \" best thing i never had \" , which both attained moderate success . the fourth single \" love on top \" was a commercial success in the us . 4 also produced four other singles ; \" party \" , \" countdown \" , \" i care \" and \" end of time \" . \" eat , play , love \" , a cover story written by beyoncé for essence that detailed her 2010 career break , won her a writing award from the new york association of black journalists . in late 2011 , she took the stage at new york 's roseland ballroom for four nights of special performances : the 4 intimate nights with beyoncé concerts saw the performance of her 4 album to a standing room only .\n",
            "trg:  when did she perform at the roseland ballroom ?\n",
            "predicted:  what year was beyonce 's first album released ?\n",
            "\n",
            "src:  her fourth studio album 4 as released on june 28 , 2011 in the us . 4 sold 310,000 copies in its first week and debuted atop the billboard 200 chart , giving beyoncé her fourth consecutive number - one album in the us . the album was preceded by two of its singles \" run the world ( girls ) \" and \" best thing i never had \" , which both attained moderate success . the fourth single \" love on top \" was a commercial success in the us . 4 also produced four other singles ; \" party \" , \" countdown \" , \" i care \" and \" end of time \" . \" eat , play , love \" , a cover story written by beyoncé for essence that detailed her 2010 career break , won her a writing award from the new york association of black journalists . in late 2011 , she took the stage at new york 's roseland ballroom for four nights of special performances : the 4 intimate nights with beyoncé concerts saw the performance of her 4 album to a standing room only .\n",
            "trg:  what is the name of beyoncé 's fourth studio album ?\n",
            "predicted:  what was the 's first album beyoncé 's debut album ?\n",
            "\n",
            "src:  her fourth studio album 4 was released on june 28 , 2011 n the us . 4 sold 310,000 copies in its first week and debuted atop the billboard 200 chart , giving beyoncé her fourth consecutive number - one album in the us . the album was preceded by two of its singles \" run the world ( girls ) \" and \" best thing i never had \" , which both attained moderate success . the fourth single \" love on top \" was a commercial success in the us . 4 also produced four other singles ; \" party \" , \" countdown \" , \" i care \" and \" end of time \" . \" eat , play , love \" , a cover story written by beyoncé for essence that detailed her 2010 career break , won her a writing award from the new york association of black journalists . in late 2011 , she took the stage at new york 's roseland ballroom for four nights of special performances : the 4 intimate nights with beyoncé concerts saw the performance of her 4 album to a standing room only .\n",
            "trg:  when was 4 released ?\n",
            "predicted:  when was the first week on roseland roseland ?\n",
            "\n",
            "src:  her fourth studio album 4 was released on june 28 , 2011 in the us . 4 sold 310,000 opies in its first week and debuted atop the billboard 200 chart , giving beyoncé her fourth consecutive number - one album in the us . the album was preceded by two of its singles \" run the world ( girls ) \" and \" best thing i never had \" , which both attained moderate success . the fourth single \" love on top \" was a commercial success in the us . 4 also produced four other singles ; \" party \" , \" countdown \" , \" i care \" and \" end of time \" . \" eat , play , love \" , a cover story written by beyoncé for essence that detailed her 2010 career break , won her a writing award from the new york association of black journalists . in late 2011 , she took the stage at new york 's roseland ballroom for four nights of special performances : the 4 intimate nights with beyoncé concerts saw the performance of her 4 album to a standing room only .\n",
            "trg:  how many copies of 4 sold in the first week ?\n",
            "predicted:  how many copies did beyoncé sell in the first week ?\n",
            "\n",
            "src:  her fourth studio album 4 was released on june 28 , 2011 in the us . 4 sold 310,000 copies in its first week and debuted atop the billboard 200 chart , giving beyoncé her fourth consecutive number - one album in the us . the album was preceded by two of its singles \" run the world ( girls ) \" and \" best thing i never had \" , which both attained moderate success . the fourth single \" love on top \" was a commercial success in the us . 4 also produced four other singles ; \" party \" , \" countdown \" , \" i care \" and \" end of time \" . \" eat , play , love \" , a cover story written by beyoncé for essence hat detailed her 2010 career break , won her a writing award from the new york association of black journalists . in late 2011 , she took the stage at new york 's roseland ballroom for four nights of special performances : the 4 intimate nights with beyoncé concerts saw the performance of her 4 album to a standing room only .\n",
            "trg:  what magazine did beyoncé write a story for about her earlier hiatus ?\n",
            "predicted:  what magazine did beyoncé sing in the beautiful beautiful beautiful ?\n",
            "\n",
            "src:  her fourth studio album 4 was released on june 28 , 2011 in the us . 4 sold 310,000 copies in its first week and debuted atop the billboard 200 chart , giving beyoncé her fourth consecutive number - one album in the us . the album was preceded by two of its singles \" run the world ( girls ) \" and \" best thing i never had \" , which both attained moderate success . the fourth single \" love on top \" was a commercial success in the us . 4 also produced four other singles ; \" party \" , \" countdown \" , \" i care \" and \" end of time \" . \" eat , play , love \" , a cover story written by beyoncé for essence that detailed her 2010 career break , won her a writing award from the new york association of black journalists . in late 2011 , she took the stage at new york 's roseland ballroom or four nights of special performances : the 4 intimate nights with beyoncé concerts saw the performance of her 4 album to a standing room only .\n",
            "trg:  where did beyoncé perform for four nights of standing room only concerts in 2011 ?\n",
            "predicted:  where did beyoncé perform in the summer ?\n",
            "\n",
            "src:  on january 7 , 2012 , beyoncé gave birth to her first child , a daughter , blue ivy carter , at lenox hill hospital in new york . five months later , she performed for four nights at revel atlantic city 's ovation hall to celebrate the resort 's opening , her first performances since giving birth to blue ivy .\n",
            "trg:  when did beyonce have her first child ?\n",
            "predicted:  when did beyoncé 's her her first child ?\n",
            "\n",
            "src:  on january 7 , 2012 , beyoncé gave birth to her first child , a daughter , blue ivy carter , at lenox hill hospital n new york . five months later , she performed for four nights at revel atlantic city 's ovation hall to celebrate the resort 's opening , her first performances since giving birth to blue ivy .\n",
            "trg:  where did beyonce give birth to her first child ?\n",
            "predicted:  where was beyoncé 's her first child ?\n",
            "\n",
            "src:  on january 7 , 2012 , beyoncé gave birth to her first child , a daughter , blue ivy carter , at lenox hill hospital in new york . five months later , she performed for four nights at revel atlantic city 's ovation hall to celebrate the resort 's opening , her first performances since giving birth to blue ivy .\n",
            "trg:  beyonce 's first child is named what ?\n",
            "predicted:  what was the name of beyoncé 's first pregnancy ?\n",
            "\n",
            "src:  on january 7 , 2012 , beyoncé gave birth to her first child , a daughter , blue ivy carter , at lenox hill hospital in new york . five months later , she performed for four nights at revel atlantic city 's ovation hall o celebrate the resort 's opening , her first performances since giving birth to blue ivy .\n",
            "trg:  her first appearance performing since giving birth was where ?\n",
            "predicted:  where did beyoncé 's her first ?\n",
            "\n",
            "src:  on january 7 , 2012 , beyoncé gave birth to her first child , a daughter , blue ivy carter , at lenox hill hospital in new york . five months later , she performed for four nights at revel atlantic city 's ovation hall to celebrate the resort 's opening , her first performances since giving birth to blue ivy .\n",
            "trg:  when did beyonce have her first child ?\n",
            "predicted:  when did beyoncé 's her her first child ?\n",
            "\n",
            "src:  on january 7 , 2012 , beyoncé gave birth to her first child , a daughter , blue ivy carter , at lenox hill hospital in new york . five months later , she performed for four nights at revel atlantic city 's ovation hall to celebrate the resort 's opening , her first performances since giving birth to blue ivy .\n",
            "trg:  what was the child 's name ?\n",
            "predicted:  what was the name of beyoncé 's first pregnancy ?\n",
            "\n",
            "src:  on january 7 , 2012 , beyoncé gave birth to her first child , a daughter , blue ivy carter , at lenox hill hospital in new york . five months ater , she performed for four nights at revel atlantic city 's ovation hall to celebrate the resort 's opening , her first performances since giving birth to blue ivy .\n",
            "trg:  how long was it after the birth of her child before she performed again ?\n",
            "predicted:  how long has kanye 's fashion been been ?\n",
            "\n",
            "src:  on january 7 , 2012 , beyoncé gave birth to her first child , a daughter , blue ivy carter , at lenox hill hospital in new york . five months later , she performed for four nights t revel atlantic city 's ovation hall to celebrate the resort 's opening , her first performances since giving birth to blue ivy .\n",
            "trg:  how many nights did she perform at atlantic city ?\n",
            "predicted:  how long did kanye 's the fashion grammy ?\n",
            "\n",
            "src:  on january 7 , 2012 , beyoncé gave birth to her first child , a daughter , blue ivy carter , at lenox hill hospital in new york . five months later , she performed for four nights at revel atlantic city 's ovation hall to celebrate the resort 's opening , her first performances since giving birth to blue ivy .\n",
            "trg:  when did beyoncé give birth to a daughter ?\n",
            "predicted:  when did beyoncé 's her her first child ?\n",
            "\n",
            "src:  on january 7 , 2012 , beyoncé gave birth to her first child , a daughter , blue ivy carter , at lenox hill hospital in new york . five months later , she performed for four nights at revel atlantic city 's ovation hall to celebrate the resort 's opening , her first performances since giving birth to blue ivy .\n",
            "trg:  what did beyoncé name her daughter ?\n",
            "predicted:  what was the name of beyoncé 's first pregnancy ?\n",
            "\n",
            "src:  on january 7 , 2012 , beyoncé gave birth to her first child , a daughter , blue ivy carter , at lenox hill hospital in new york . five months later , she performed for four nights at revel atlantic city 's ovation hall to celebrate the resort 's opening , her first performances since giving birth to blue ivy .\n",
            "trg:  where was blue ivy born ?\n",
            "predicted:  where was beyoncé ivy 's ?\n",
            "\n",
            "src:  on january 7 , 2012 , beyoncé gave birth to her first child , a daughter , blue ivy carter , at lenox hill hospital in new york . five months later , she performed for four nights at revel atlantic city 's ovation hall o celebrate the resort 's opening , her first performances since giving birth to blue ivy .\n",
            "trg:  where was beyoncé 's first public performance after giving birth ?\n",
            "predicted:  where did beyoncé 's her first ?\n",
            "\n",
            "src:  on january 7 , 2012 , beyoncé gave birth to her first child , a daughter , blue ivy carter , at lenox hill hospital in new york . five months later , she performed for four ights at revel atlantic city 's ovation hall to celebrate the resort 's opening , her first performances since giving birth to blue ivy .\n",
            "trg:  how many nights did beyoncé play at the resort ?\n",
            "predicted:  how many people did beyoncé 's her ?\n",
            "\n",
            "src:  in january 2013 , destiny 's child released love songs , a compilation album of the romance- hemed songs from their previous albums and a newly recorded track , \" nuclear \" . beyoncé performed the american national anthem singing along with a pre - recorded track at president obama 's second inauguration in washington , d.c. the following month , beyoncé performed at the super bowl xlvii halftime show , held at the mercedes - benz superdome in new orleans . the performance stands as the second most tweeted about moment in history at 268,000 tweets per minute . at the 55th annual grammy awards , beyoncé won for best traditional r&b performance for \" love on top \" . her feature - length documentary film , life is but a dream , first aired on hbo on february 16 , 2013 . the film , which she directed and produced herself , featured footage from her childhood , her as a mother and businesswoman , recording , rehearsing for live performances , and her return to the spotlight following blue ivy 's birth . its dvd release in november 2013 was accompanied by footage from the revel presents : beyoncé live concerts and a new song , \" god made you beautiful \" . in february 2013 , beyoncé signed a global publishing agreement with warner / chappell music , which would cover her future songwriting and then - upcoming studio album .\n",
            "trg:  destiny 's child released a compilation album about which topic ?\n",
            "predicted:  what magazine did beyoncé sing on ?\n",
            "\n",
            "src:  in january 2013 , destiny 's child released love songs , a compilation album of the romance - themed songs from their previous albums and a newly recorded track , \" nuclear \" . beyoncé performed the american national anthem singing along with a pre - recorded track at president obama 's second inauguration in washington , d.c. the following month , beyoncé performed at the super bowl xlvii halftime show , held at the mercedes - benz superdome in new orleans . the performance stands as the second most tweeted about moment in history at 268,000 tweets per minute . at the 55th annual grammy awards , beyoncé won for best traditional r&b performance for \" love on top \" . her feature - length documentary film , life is but a dream , first aired on hbo on february 16 , 2013 . the film , which she directed and produced herself , featured footage from her childhood , her as a mother and businesswoman , recording , rehearsing for live performances , and her return to the spotlight following blue ivy 's birth . its dvd release in november 2013 was accompanied by footage from the revel presents : beyoncé live concerts and a new song , \" god made you beautiful \" . in february 2013 , beyoncé signed a global publishing agreement with warner / chappell music , which would cover her future songwriting and then - upcoming studio album .\n",
            "trg:  beyonce 's documentary movie was called what ?\n",
            "predicted:  what song did beyoncé sing in in 2011 ?\n",
            "\n",
            "src:  in january 2013 , destiny 's child released love songs , a compilation album of the romance - themed songs from their previous albums and a newly recorded track , \" nuclear \" . beyoncé performed the american national anthem singing along with a pre - recorded track at president obama 's second inauguration in washington , d.c. the following month , beyoncé performed at the super bowl xlvii halftime show , held at the mercedes - benz superdome in new orleans . the performance stands as the second most tweeted about moment in history at 268,000 tweets per minute . at the 55th annual grammy awards , beyoncé won for best traditional r&b performance for \" love on top \" . her feature - length documentary film , life is but a dream , first aired on hbo on february 16 , 2013 . the film , which she directed and produced herself , featured footage from her childhood , her as a mother and businesswoman , recording , rehearsing for live performances , and her return to the spotlight following blue ivy 's birth . its dvd release in november 2013 was accompanied by footage from the revel presents : beyoncé live concerts and a new song , \" god made you beautiful \" . in february 2013 , beyoncé signed a global publishing agreement ith warner / chappell music , which would cover her future songwriting and then - upcoming studio album .\n",
            "trg:  what did beyonce sign in 2013 ?\n",
            "predicted:  what did beyoncé sign in the 2011 ?\n",
            "\n",
            "src:  in january 2013 , destiny 's child released love songs , a compilation album of the romance - themed songs from their previous albums and a newly recorded track , \" nuclear \" . beyoncé performed the american national anthem singing along with a pre - recorded track at president obama 's second inauguration in washington , d.c. the following month , beyoncé performed at the super bowl xlvii halftime show , held at the mercedes - benz superdome in new orleans . the performance stands as the second most tweeted about moment in history at 268,000 tweets per minute . at the 55th annual grammy awards , beyoncé won for best traditional r&b performance for \" love on top \" . her feature - length documentary film , life is but a dream , first aired on hbo on february 16 , 2013 . the film , which she directed and produced herself , featured footage from her childhood , her as a mother and businesswoman , recording , rehearsing for live performances , and her return to the spotlight following blue ivy 's birth . its dvd release in november 2013 was accompanied by footage from the revel presents : beyoncé live concerts and a new song , \" god made you beautiful \" . in february 2013 , beyoncé signed a global publishing agreement with warner / chappell music , which would cover her future songwriting and then - upcoming studio album .\n",
            "trg:  when did destiny 's child release its album \" love songs \" ?\n",
            "predicted:  when did destiny 's child 's child ?\n",
            "\n",
            "src:  in january 2013 , destiny 's child released love songs , a compilation album of the romance - themed songs from their previous albums and a newly recorded track , \" nuclear \" beyoncé performed the american national anthem singing along with a pre - recorded track at president obama 's second inauguration in washington , d.c. the following month , beyoncé performed at the super bowl xlvii halftime show , held at the mercedes - benz superdome in new orleans . the performance stands as the second most tweeted about moment in history at 268,000 tweets per minute . at the 55th annual grammy awards , beyoncé won for best traditional r&b performance for \" love on top \" . her feature - length documentary film , life is but a dream , first aired on hbo on february 16 , 2013 . the film , which she directed and produced herself , featured footage from her childhood , her as a mother and businesswoman , recording , rehearsing for live performances , and her return to the spotlight following blue ivy 's birth . its dvd release in november 2013 was accompanied by footage from the revel presents : beyoncé live concerts and a new song , \" god made you beautiful \" . in february 2013 , beyoncé signed a global publishing agreement with warner / chappell music , which would cover her future songwriting and then - upcoming studio album .\n",
            "trg:  what was the title of the added track in love songs ?\n",
            "predicted:  what was the name of beyoncé 's child ?\n",
            "\n",
            "src:  in january 2013 , destiny 's child released love songs , a compilation album of the romance - themed songs from their previous albums and a newly recorded track , \" nuclear \" . beyoncé performed the american national anthem singing along with a pre - recorded track at president obama ' second inauguration in washington , d.c. the following month , beyoncé performed at the super bowl xlvii halftime show , held at the mercedes - benz superdome in new orleans . the performance stands as the second most tweeted about moment in history at 268,000 tweets per minute . at the 55th annual grammy awards , beyoncé won for best traditional r&b performance for \" love on top \" . her feature - length documentary film , life is but a dream , first aired on hbo on february 16 , 2013 . the film , which she directed and produced herself , featured footage from her childhood , her as a mother and businesswoman , recording , rehearsing for live performances , and her return to the spotlight following blue ivy 's birth . its dvd release in november 2013 was accompanied by footage from the revel presents : beyoncé live concerts and a new song , \" god made you beautiful \" . in february 2013 , beyoncé signed a global publishing agreement with warner / chappell music , which would cover her future songwriting and then - upcoming studio album .\n",
            "trg:  at whose inauguration did she perform the national anthem ?\n",
            "predicted:  beyonce 's first was beyoncé 's debut ?\n",
            "\n",
            "src:  in january 2013 , destiny 's child released love songs , a compilation album of the romance - themed songs from their previous albums and a newly recorded track , \" nuclear \" . beyoncé performed the american national anthem singing along with a pre - recorded track at president obama 's second inauguration in washington , d.c. the following month , beyoncé performed at the super bowl xlvii halftime show , held at the mercedes - benz superdome in new orleans . the performance stands as the second most tweeted about moment in history at 268,000 tweets per minute . at the 55th annual grammy awards , beyoncé won for best traditional r&b performance for \" love on top \" . her feature - length documentary film , life is but a dream , first aired on hbo on february 16 , 2013 . the film , which she directed and produced herself , featured footage from her childhood , her as a mother and businesswoman , recording , rehearsing for live performances , and her return to the spotlight following blue ivy 's birth . its dvd release in november 2013 was accompanied by footage from the revel presents : beyoncé live concerts and a new song , \" god made you beautiful \" . in february 2013 , beyoncé signed a global publishing agreement with warner / chappell music , which would cover her future songwriting and then - upcoming studio album .\n",
            "trg:  how many tweets per minute did the half time show get ?\n",
            "predicted:  how many tweets did beyoncé 's the the grammy ?\n",
            "\n",
            "src:  in january 2013 , destiny 's child released love songs , a compilation album of the romance - themed songs from their previous albums and a newly recorded track , \" nuclear \" . beyoncé performed the american national anthem singing along with a pre - recorded track at president obama 's second inauguration in washington , d.c. the following month , beyoncé performed at the super bowl xlvii halftime show , held at the mercedes - benz superdome in new orleans . the performance stands as the second most tweeted about moment in history at 268,000 tweets per minute . at the 55th annual grammy awards , beyoncé won for best traditional r&b performance for \" love on top \" . her feature - length documentary film , life is but a dream , first aired on hbo on february 16 , 2013 . the film , which she directed and produced herself , featured footage from her childhood , her as a mother and businesswoman , recording , rehearsing for live performances , and her return to the spotlight following blue ivy 's birth . its dvd release in november 2013 was accompanied by footage from the revel presents : beyoncé live concerts and a new song , \" god made you beautiful \" . in february 2013 , beyoncé signed a global publishing agreement with warner / chappell music , which would cover her future songwriting and then - upcoming studio album .\n",
            "trg:  when did destiny 's child release love songs ?\n",
            "predicted:  when did destiny 's child 's child ?\n",
            "\n",
            "src:  in january 2013 , destiny 's child released love songs , a compilation album of the romance - themed songs from their previous albums and a newly recorded track , \" nuclear \" beyoncé performed the american national anthem singing along with a pre - recorded track at president obama 's second inauguration in washington , d.c. the following month , beyoncé performed at the super bowl xlvii halftime show , held at the mercedes - benz superdome in new orleans . the performance stands as the second most tweeted about moment in history at 268,000 tweets per minute . at the 55th annual grammy awards , beyoncé won for best traditional r&b performance for \" love on top \" . her feature - length documentary film , life is but a dream , first aired on hbo on february 16 , 2013 . the film , which she directed and produced herself , featured footage from her childhood , her as a mother and businesswoman , recording , rehearsing for live performances , and her return to the spotlight following blue ivy 's birth . its dvd release in november 2013 was accompanied by footage from the revel presents : beyoncé live concerts and a new song , \" god made you beautiful \" . in february 2013 , beyoncé signed a global publishing agreement with warner / chappell music , which would cover her future songwriting and then - upcoming studio album .\n",
            "trg:  what was the new track for love songs ?\n",
            "predicted:  what was the name of beyoncé 's child ?\n",
            "\n",
            "src:  in january 2013 , destiny 's child released love songs , a compilation album of the romance - themed songs from their previous albums and a newly recorded track , \" nuclear \" . beyoncé performed the american national anthem inging along with a pre - recorded track at president obama 's second inauguration in washington , d.c. the following month , beyoncé performed at the super bowl xlvii halftime show , held at the mercedes - benz superdome in new orleans . the performance stands as the second most tweeted about moment in history at 268,000 tweets per minute . at the 55th annual grammy awards , beyoncé won for best traditional r&b performance for \" love on top \" . her feature - length documentary film , life is but a dream , first aired on hbo on february 16 , 2013 . the film , which she directed and produced herself , featured footage from her childhood , her as a mother and businesswoman , recording , rehearsing for live performances , and her return to the spotlight following blue ivy 's birth . its dvd release in november 2013 was accompanied by footage from the revel presents : beyoncé live concerts and a new song , \" god made you beautiful \" . in february 2013 , beyoncé signed a global publishing agreement with warner / chappell music , which would cover her future songwriting and then - upcoming studio album .\n",
            "trg:  what did beyoncé sing at president obama 's second inauguration ?\n",
            "predicted:  what did beyoncé sing in the first inauguration ?\n",
            "\n",
            "src:  in january 2013 , destiny 's child released love songs , a compilation album of the romance - themed songs from their previous albums and a newly recorded track , \" nuclear \" . beyoncé performed the american national anthem singing along with a pre - recorded track at president obama 's second inauguration in washington , d.c. the following month , beyoncé performed at the super bowl xlvii halftime show , held at the mercedes - benz superdome in new orleans . the performance stands as the second most tweeted about moment in history at 268,000 tweets per minute . at the 55th annual grammy awards , beyoncé won for best traditional r&b performance for \" love on top \" . her feature - length documentary film , life is but a dream , first aired on hbo on february 16 , 2013 . the film , which she directed and produced herself , featured footage from her childhood , her as a mother and businesswoman , recording , rehearsing for live performances , and her return to the spotlight following blue ivy 's birth . its dvd release in november 2013 was accompanied by footage from the revel presents : beyoncé live concerts and a new song , \" god made you beautiful \" . in february 2013 , beyoncé signed a global publishing agreement with warner / chappell music , which would cover her future songwriting and then - upcoming studio album .\n",
            "trg:  what event did beyoncé perform at one month after obama 's inauguration ?\n",
            "predicted:  what was the first inauguration beyoncé 's inauguration ?\n",
            "\n",
            "src:  in january 2013 , destiny 's child released love songs , a compilation album of the romance - themed songs from their previous albums and a newly recorded track , \" nuclear \" . beyoncé performed the american national anthem singing along with a pre - recorded track at president obama 's second inauguration in washington , d.c. the following month , beyoncé performed at the super bowl xlvii halftime show , held at the mercedes - benz superdome in new orleans . the performance stands as the second most tweeted about moment in history at 268,000 tweets per minute . at the 55th annual grammy awards , beyoncé won for best traditional r&b performance for \" love on top \" . her feature - length documentary film , life is but a dream , first aired on hbo on february 16 , 2013 . the film , which she directed and produced herself , featured footage from her childhood , her as a mother and businesswoman , recording , rehearsing for live performances , and her return to the spotlight following blue ivy 's birth . its dvd release in november 2013 was accompanied by footage from the revel presents : beyoncé live concerts and a new song , \" god made you beautiful \" . in february 2013 , beyoncé signed a global publishing agreement with warner / chappell music , which would cover her future songwriting and then - upcoming studio album .\n",
            "trg:  what is the name of beyoncé 's documentary film ?\n",
            "predicted:  what song did beyoncé sing in in 2011 ?\n",
            "\n",
            "src:  beyoncé embarked on the mrs. carter show world tour on april 15 in belgrade , serbia ; the tour included 132 ates that ran through to march 2014 . it became the most successful tour of her career and one of the most - successful tours of all time . in may , beyoncé 's cover of amy winehouse 's \" back to black \" with andré 3000 on the great gatsby soundtrack was released . she was also honorary chair of the 2013 met gala . beyoncé voiced queen tara in the 3d cgi animated film , epic , released by 20th century fox on may 24 , and recorded an original song for the film , \" rise up \" , co - written with sia .\n",
            "trg:  how many dates did beyonce 's \" the mrs. carter show \" entail ?\n",
            "predicted:  how many people did beyoncé mrs. in the mrs. carter ?\n",
            "\n",
            "src:  beyoncé embarked on the mrs. carter show orld tour on april 15 in belgrade , serbia ; the tour included 132 dates that ran through to march 2014 . it became the most successful tour of her career and one of the most - successful tours of all time . in may , beyoncé 's cover of amy winehouse 's \" back to black \" with andré 3000 on the great gatsby soundtrack was released . she was also honorary chair of the 2013 met gala . beyoncé voiced queen tara in the 3d cgi animated film , epic , released by 20th century fox on may 24 , and recorded an original song for the film , \" rise up \" , co - written with sia .\n",
            "trg:  one of beyonce 's most successful tours yet was which one ?\n",
            "predicted:  what was the name of beyoncé 's first solo ?\n",
            "\n",
            "src:  beyoncé embarked on the mrs. carter show world tour on april 15 in belgrade , serbia ; the tour included 132 dates that ran through to march 2014 . it became the most successful tour of her career and one of the most - successful tours of all time . in may , beyoncé 's cover of amy winehouse 's \" back to black \" with andré 3000 on the great gatsby soundtrack was released . she was also honorary chair of the 2013 met gala . beyoncé voiced queen tara in the 3d cgi animated film , epic , released by 20th century fox on may 24 , and recorded an original song for the film , \" rise up \" co - written with sia .\n",
            "trg:  beyonce wrote which song for the movie \" epic \" ?\n",
            "predicted:  what song did beyoncé 's on the first song ?\n",
            "\n",
            "src:  beyoncé embarked on the mrs. carter show world tour on april 15 in belgrade , serbia ; the tour included 132 dates that ran through to march 2014 . it became the most successful tour of her career and one of the most - successful tours of all time . in may , beyoncé 's cover of amy winehouse 's \" back to black \" with andré 3000 on the great gatsby soundtrack was released . she was also honorary chair of the 2013 met gala . beyoncé voiced queen tara in the 3d cgi animated film , epic , released by 20th century fox on may 24 , and recorded an original song for the film , \" rise up \" , co - written with sia .\n",
            "trg:  beyonce voiced a character in which animated film ?\n",
            "predicted:  what was the name of the movie that was released in the ?\n",
            "\n",
            "src:  beyoncé embarked on the mrs. carter show world tour on april 15 n belgrade , serbia ; the tour included 132 dates that ran through to march 2014 . it became the most successful tour of her career and one of the most - successful tours of all time . in may , beyoncé 's cover of amy winehouse 's \" back to black \" with andré 3000 on the great gatsby soundtrack was released . she was also honorary chair of the 2013 met gala . beyoncé voiced queen tara in the 3d cgi animated film , epic , released by 20th century fox on may 24 , and recorded an original song for the film , \" rise up \" , co - written with sia .\n",
            "trg:  when did the tour begin ?\n",
            "predicted:  when did beyonce 's her tour ?\n",
            "\n",
            "src:  beyoncé embarked on the mrs. carter show world tour on april 15 in belgrade , serbia ; the tour included 132 dates that ran through to march 2014 . it became the most successful tour of her career and one of the most - successful tours of all time . in may , beyoncé 's cover of amy winehouse 's \" back to black \" with andré 3000 on the great gatsby soundtrack was released . she was also honorary chair of the 2013 met gala . beyoncé voiced queen tara in the 3d cgi animated film , epic , released by 20th century fox on may 24 , and recorded an original song for the film , \" rise up \" , co - written with sia .\n",
            "trg:  of what event was beyonce honorary chair ?\n",
            "predicted:  what was the 's of the 's greatest greatest ?\n",
            "\n",
            "src:  beyoncé embarked on the mrs. carter show world tour on april 15 in belgrade , serbia ; the tour included 132 dates that ran through to march 2014 . it became the most successful tour of her career and one of the most - successful tours of all time . in may , beyoncé 's cover of amy winehouse 's \" back to black \" with andré 3000 on the great gatsby soundtrack was released . she was also honorary chair of the 2013 met gala . beyoncé voiced queen tara n the 3d cgi animated film , epic , released by 20th century fox on may 24 , and recorded an original song for the film , \" rise up \" , co - written with sia .\n",
            "trg:  what part did she voice for the movie epic ?\n",
            "predicted:  what was the name of the movie that beyoncé 's in the ?\n",
            "\n",
            "src:  beyoncé embarked on the mrs. carter show world tour on april 15 in belgrade , serbia ; the tour included 132 dates that ran through to march 2014 . it became the most successful tour of her career and one of the most - successful tours of all time . in may , beyoncé 's cover of amy winehouse 's \" back to black \" with andré 3000 on the great gatsby soundtrack was released . she was also honorary chair of the 2013 met gala . beyoncé voiced queen tara in the 3d cgi animated film , epic , released by 20th century fox on may 24 , and recorded an original song for the film , \" rise up \" co - written with sia .\n",
            "trg:  what song did beyonce record for the film epic ?\n",
            "predicted:  what song did beyoncé 's on the first song ?\n",
            "\n",
            "src:  beyoncé embarked on the mrs. carter show world tour n april 15 in belgrade , serbia ; the tour included 132 dates that ran through to march 2014 . it became the most successful tour of her career and one of the most - successful tours of all time . in may , beyoncé 's cover of amy winehouse 's \" back to black \" with andré 3000 on the great gatsby soundtrack was released . she was also honorary chair of the 2013 met gala . beyoncé voiced queen tara in the 3d cgi animated film , epic , released by 20th century fox on may 24 , and recorded an original song for the film , \" rise up \" , co - written with sia .\n",
            "trg:  what was the name of beyoncé 's tour that she started on april 15 ?\n",
            "predicted:  what was the beyoncé 's first ?\n",
            "\n",
            "src:  beyoncé embarked on the mrs. carter show world tour on april 15 in belgrade , serbia ; the tour included 132 ates that ran through to march 2014 . it became the most successful tour of her career and one of the most - successful tours of all time . in may , beyoncé 's cover of amy winehouse 's \" back to black \" with andré 3000 on the great gatsby soundtrack was released . she was also honorary chair of the 2013 met gala . beyoncé voiced queen tara in the 3d cgi animated film , epic , released by 20th century fox on may 24 , and recorded an original song for the film , \" rise up \" , co - written with sia .\n",
            "trg:  how many dates did the mrs. carter show world tour have ?\n",
            "predicted:  how many people did beyoncé mrs. in the mrs. carter ?\n",
            "\n",
            "src:  beyoncé embarked on the mrs. carter show world tour on april 15 in belgrade , serbia ; the tour included 132 dates that ran through to march 2014 . it became the most successful tour of her career and one of the most - successful tours of all time . in may , beyoncé 's cover of amy winehouse 's \" back to black \" with andré 3000 on the great gatsby soundtrack was released . she was also honorary chair of the 2013 met gala . beyoncé voiced queen tara in the 3d cgi animated film , epic , released by 20th century fox on may 24 , and recorded an original song for the film , \" rise up \" , co - written with sia .\n",
            "trg:  which amy winehouse song did beyoncé cover and release in may 2014 ?\n",
            "predicted:  what was the name of beyoncé 's autobiography ?\n",
            "\n",
            "src:  beyoncé embarked on the mrs. carter show world tour on april 15 in belgrade , serbia ; the tour included 132 dates that ran through to march 2014 . it became the most successful tour of her career and one of the most - successful tours of all time . in may , beyoncé 's cover of amy winehouse 's \" back to black \" with andré 3000 on the great gatsby soundtrack was released . she was also honorary chair of the 2013 met gala . beyoncé voiced queen tara in the 3d cgi animated film , epic , released by 20th century fox on may 24 , and recorded an original song for the film , \" rise up \" , co - written with sia .\n",
            "trg:  beyoncé was an honorary chair of the 2013 what ?\n",
            "predicted:  what was the name of the 's movie ?\n",
            "\n",
            "src:  beyoncé embarked on the mrs. carter show world tour on april 15 in belgrade , serbia ; the tour included 132 dates that ran through to march 2014 . it became the most successful tour of her career and one of the most - successful tours of all time . in may , beyoncé 's cover of amy winehouse 's \" back to black \" with andré 3000 on the great gatsby soundtrack was released . she was also honorary chair of the 2013 met gala . beyoncé voiced queen tara n the 3d cgi animated film , epic , released by 20th century fox on may 24 , and recorded an original song for the film , \" rise up \" , co - written with sia .\n",
            "trg:  which character in the film , epic , was voiced by beyoncé ?\n",
            "predicted:  what was the name of the movie that beyoncé 's in the ?\n",
            "\n",
            "src:  on december 13 , 2013 , beyoncé unexpectedly released her eponymous fifth studio album on the itunes store ithout any prior announcement or promotion . the album debuted atop the billboard 200 chart , giving beyoncé her fifth consecutive number - one album in the us . this made her the first woman in the chart 's history to have her first five studio albums debut at number one . beyoncé received critical acclaim and commercial success , selling one million digital copies worldwide in six days ; the new york times noted the album 's unconventional , unexpected release as significant . musically an electro - r&b album , it concerns darker themes previously unexplored in her work , such as \" bulimia , postnatal depression [ and ] the fears and insecurities of marriage and motherhood \" . the single \" drunk in love \" , featuring jay z , peaked at number two on the billboard hot 100 chart . in april 2014 , after much speculation in the weeks before , beyoncé and jay z officially announced their on the run tour . it served as the couple 's first co - headlining stadium tour together . on august 24 , 2014 , she received the video vanguard award at the 2014 mtv video music awards . knowles also took home three competitive awards : best video with a social message and best cinematography for \" pretty hurts \" , as well as best collaboration for \" drunk in love \" . in november , forbes reported that beyoncé was the top - earning woman in music for the second year in a row — earning $ 115 million in the year , more than double her earnings in 2013 . beyoncé was reissued with new material in three forms : as an extended play , a box set , as well as a full platinum edition .\n",
            "trg:  where did beyonce release her 5th album to a huge surprise ?\n",
            "predicted:  what was the first album released beyoncé 's solo album ?\n",
            "\n",
            "src:  on december 13 , 2013 , beyoncé unexpectedly released her eponymous fifth studio album on the itunes store without any prior announcement or promotion . the album debuted atop the billboard 200 chart , giving beyoncé her fifth consecutive number - one album in the us . this made her the first woman in the chart 's history to have her first five studio albums debut at number one . beyoncé received critical acclaim and commercial success , selling one million digital copies worldwide in six days ; the new york times noted the album 's unconventional , unexpected release as significant . musically an electro - r&b album , it concerns darker themes previously unexplored in her work , such as \" bulimia , postnatal depression [ and ] the fears and insecurities of marriage and motherhood \" . the single \" drunk in love \" , featuring jay z , peaked at number two on the billboard hot 100 chart . in april 2014 , after much speculation in the weeks before , beyoncé and jay z officially announced their on the run tour . it served as the couple 's first co - headlining stadium tour together . on august 24 , 2014 , she received the video vanguard award at the 2014 mtv video music awards . knowles also took home three competitive awards : best video with a social message and best cinematography for \" pretty hurts \" , as well as best collaboration for \" drunk in love \" . in november , forbes reported that beyoncé was the top - earning woman in music for the second year in a row — earning $ 115 million in the year , more than double her earnings in 2013 . beyoncé was reissued with new material in three forms : as an extended play , a box set , as well as a full platinum edition .\n",
            "trg:  when did beyonce get her fifth consecutive number one hit album ?\n",
            "predicted:  when did beyoncé 's her first consecutive consecutive ?\n",
            "\n",
            "src:  on december 13 , 2013 , beyoncé unexpectedly released her eponymous fifth studio album on the itunes store ithout any prior announcement or promotion . the album debuted atop the billboard 200 chart , giving beyoncé her fifth consecutive number - one album in the us . this made her the first woman in the chart 's history to have her first five studio albums debut at number one . beyoncé received critical acclaim and commercial success , selling one million digital copies worldwide in six days ; the new york times noted the album 's unconventional , unexpected release as significant . musically an electro - r&b album , it concerns darker themes previously unexplored in her work , such as \" bulimia , postnatal depression [ and ] the fears and insecurities of marriage and motherhood \" . the single \" drunk in love \" , featuring jay z , peaked at number two on the billboard hot 100 chart . in april 2014 , after much speculation in the weeks before , beyoncé and jay z officially announced their on the run tour . it served as the couple 's first co - headlining stadium tour together . on august 24 , 2014 , she received the video vanguard award at the 2014 mtv video music awards . knowles also took home three competitive awards : best video with a social message and best cinematography for \" pretty hurts \" , as well as best collaboration for \" drunk in love \" . in november , forbes reported that beyoncé was the top - earning woman in music for the second year in a row — earning $ 115 million in the year , more than double her earnings in 2013 . beyoncé was reissued with new material in three forms : as an extended play , a box set , as well as a full platinum edition .\n",
            "trg:  where was the album released ?\n",
            "predicted:  what was the first album released beyoncé 's solo album ?\n",
            "\n",
            "src:  on december 13 , 2013 , beyoncé unexpectedly released her eponymous fifth studio album on the itunes store without any prior announcement or promotion . the album debuted atop the billboard 200 chart , giving beyoncé her fifth consecutive number - one album in the us . this made her the first woman in the chart 's history to have her first five studio albums debut at number one . beyoncé received critical acclaim and commercial success , selling one million digital copies worldwide in six days ; the new york times noted the album 's unconventional , unexpected release as significant . musically an electro - r&b album , it concerns darker themes previously unexplored in her work , such as \" bulimia , postnatal depression [ and ] the fears and insecurities of marriage and motherhood \" . the single \" drunk in love \" , featuring jay z , peaked at number two on the billboard hot 100 chart . in april 2014 , after much speculation in the weeks before , beyoncé and jay z officially announced their on the run tour . it served as the couple 's first co - headlining stadium tour together . on august 24 , 2014 , she received the video vanguard award at the 2014 mtv video music awards . knowles also took home three competitive awards : best video with a social message and best cinematography for \" pretty hurts \" , as well as best collaboration for \" drunk in love \" . in november , forbes reported that beyoncé was the top - earning woman in music for the second year in a row — earning $ 115 million in the year , more than double her earnings in 2013 . beyoncé was reissued with new material in three forms : as an extended play , a box set , as well as a full platinum edition .\n",
            "trg:  who joined beyonce on her on the run tour ?\n",
            "predicted:  what was the name of the 's video film ?\n",
            "\n",
            "src:  on december 13 , 2013 , beyoncé unexpectedly released her eponymous fifth studio album on the itunes store without any prior announcement or promotion . the album debuted atop the billboard 200 chart , giving beyoncé her fifth consecutive number - one album in the us . this made her the first woman in the chart 's history to have her first five studio albums debut at number one . beyoncé received critical acclaim and commercial success , selling one million digital copies worldwide in six days ; the new york times noted the album 's unconventional , unexpected release as significant . musically an electro - r&b album , it concerns darker themes previously unexplored in her work , such as \" bulimia , postnatal depression [ and ] the fears and insecurities of marriage and motherhood \" . the single \" drunk in love \" , featuring jay z , peaked at number two on the billboard hot 100 chart . in april 2014 , after much speculation in the weeks before , beyoncé and jay z officially announced their on the run tour . it served as the couple 's first co - headlining stadium tour together . on august 24 , 2014 , she received the video vanguard award at the 2014 mtv video music awards . knowles also took home three competitive awards : best video with a social message and best cinematography for \" pretty hurts \" , as well as best collaboration for \" drunk in love \" . in november , forbes eported that beyoncé was the top - earning woman in music for the second year in a row — earning $ 115 million in the year , more than double her earnings in 2013 . beyoncé was reissued with new material in three forms : as an extended play , a box set , as well as a full platinum edition .\n",
            "trg:  who reported beyonce to e the top earning woman in music ?\n",
            "predicted:  who magazine was beyoncé 's the list of list of the greatest list ?\n",
            "\n",
            "src:  on december 13 , 2013 , beyoncé unexpectedly released her eponymous fifth studio album on the itunes store without any prior announcement or promotion . the album debuted atop the billboard 200 chart , giving beyoncé her fifth consecutive number - one album in the us . this made her the first woman in the chart 's history to have her first five studio albums debut at number one . beyoncé received critical acclaim and commercial success , selling one million digital copies worldwide in six days ; the new york times noted the album 's unconventional , unexpected release as significant . musically an electro - r&b album , it concerns darker themes previously unexplored in her work , such as \" bulimia , postnatal depression [ and ] the fears and insecurities of marriage and motherhood \" . the single \" drunk in love \" , featuring jay z , peaked at number two on the billboard hot 100 chart . in april 2014 , after much speculation in the weeks before , beyoncé and jay z officially announced their on the run tour . it served as the couple 's first co - headlining stadium tour together . on august 24 , 2014 , she received the video vanguard award at the 2014 mtv video music awards . knowles also took home three competitive awards : best video with a social message and best cinematography for \" pretty hurts \" , as well as best collaboration for \" drunk in love \" . in november , forbes reported that beyoncé was the top - earning woman in music for the second year in a row — earning $ 115 million in the year , more than double her earnings n 2013 . beyoncé was reissued with new material in three forms : as an extended play , a box set , as well as a full platinum edition .\n",
            "trg:  how much more were her earnings that the year before ?\n",
            "predicted:  how much did beyoncé 's on the first time ?\n",
            "\n",
            "src:  on december 13 , 2013 , beyoncé unexpectedly released her eponymous fifth studio album on the itunes store without any prior announcement or promotion . the album debuted atop the billboard 200 chart , giving beyoncé her fifth consecutive number - one album in the us . this made her the first woman in the chart 's history to have her first five studio albums debut at number one . beyoncé received critical acclaim and commercial success , selling one million digital copies worldwide in six days ; the new york times noted the album 's unconventional , unexpected release as significant . musically an electro - r&b album , it concerns darker themes previously unexplored in her work , such as \" bulimia , postnatal depression [ and ] the fears and insecurities of marriage and motherhood \" . the single \" drunk in love \" , featuring jay z , peaked at number two on the billboard hot 100 chart . in april 2014 , after much speculation in the weeks before , beyoncé and jay z officially announced their on the run tour . it served as the couple 's first co - headlining stadium tour together . on august 24 , 2014 , she received the video vanguard award at the 2014 mtv video music awards . knowles also took home three competitive awards : best video with a social message and best cinematography for \" pretty hurts \" , as well as best collaboration for \" drunk in love \" . in november , forbes reported that beyoncé was the top - earning woman in music for the second year in a row — earning $ 115 million in the year , more than double her earnings in 2013 . beyoncé was reissued with new material in three forms : as an extended play , a box set , as well as a full platinum edition .\n",
            "trg:  when did beyoncé release her fifth studio album ?\n",
            "predicted:  when did beyoncé 's her first consecutive consecutive ?\n",
            "\n",
            "src:  on december 13 , 2013 , beyoncé unexpectedly released her eponymous fifth studio album on the itunes store without any prior announcement or promotion . the album debuted atop the billboard 200 chart , giving beyoncé her fifth consecutive number - one album in the us . this made her the first woman in the chart 's history to have her first five studio albums debut at number one . beyoncé received critical acclaim and commercial success , selling one million igital copies worldwide in six days ; the new york times noted the album 's unconventional , unexpected release as significant . musically an electro - r&b album , it concerns darker themes previously unexplored in her work , such as \" bulimia , postnatal depression [ and ] the fears and insecurities of marriage and motherhood \" . the single \" drunk in love \" , featuring jay z , peaked at number two on the billboard hot 100 chart . in april 2014 , after much speculation in the weeks before , beyoncé and jay z officially announced their on the run tour . it served as the couple 's first co - headlining stadium tour together . on august 24 , 2014 , she received the video vanguard award at the 2014 mtv video music awards . knowles also took home three competitive awards : best video with a social message and best cinematography for \" pretty hurts \" , as well as best collaboration for \" drunk in love \" . in november , forbes reported that beyoncé was the top - earning woman in music for the second year in a row — earning $ 115 million in the year , more than double her earnings in 2013 . beyoncé was reissued with new material in three forms : as an extended play , a box set , as well as a full platinum edition .\n",
            "trg:  how many digital copies of her fifth album did beyoncé sell in six days ?\n",
            "predicted:  how many albums did beyoncé sell in the first week ?\n",
            "\n",
            "src:  on december 13 , 2013 , beyoncé unexpectedly released her eponymous fifth studio album on the itunes store without any prior announcement or promotion . the album debuted atop the billboard 200 chart , giving beyoncé her fifth consecutive number - one album in the us . this made her the first woman in the chart 's history to have her first five studio albums debut at number one . beyoncé received critical acclaim and commercial success , selling one million digital copies worldwide in six days ; the new york times noted the album 's unconventional , unexpected release as significant . musically an electro - r&b album , it concerns darker themes previously unexplored in her work , such as \" bulimia , postnatal depression [ and ] the fears and insecurities of marriage and motherhood \" . the single \" drunk in love \" featuring jay z , peaked at number two on the billboard hot 100 chart . in april 2014 , after much speculation in the weeks before , beyoncé and jay z officially announced their on the run tour . it served as the couple 's first co - headlining stadium tour together . on august 24 , 2014 , she received the video vanguard award at the 2014 mtv video music awards . knowles also took home three competitive awards : best video with a social message and best cinematography for \" pretty hurts \" , as well as best collaboration for \" drunk in love \" . in november , forbes reported that beyoncé was the top - earning woman in music for the second year in a row — earning $ 115 million in the year , more than double her earnings in 2013 . beyoncé was reissued with new material in three forms : as an extended play , a box set , as well as a full platinum edition .\n",
            "trg:  what song on beyoncé 's fifth studio album featured her husband ?\n",
            "predicted:  what was the name of the 's 's billboard billboard ?\n",
            "\n",
            "src:  on december 13 , 2013 , beyoncé unexpectedly released her eponymous fifth studio album on the itunes store without any prior announcement or promotion . the album debuted atop the billboard 200 chart , giving beyoncé her fifth consecutive number - one album in the us . this made her the first woman in the chart 's history to have her first five studio albums debut at number one . beyoncé received critical acclaim and commercial success , selling one million digital copies worldwide in six days ; the new york times noted the album 's unconventional , unexpected release as significant . musically an electro - r&b album , it concerns darker themes previously unexplored in her work , such as \" bulimia , postnatal depression [ and ] the fears and insecurities of marriage and motherhood \" . the single \" drunk in love \" , featuring jay z , peaked at number two on the billboard hot 100 chart . in april 2014 , after much speculation in the weeks before , beyoncé and jay z officially announced their on the run tour . it served as the couple 's first co - headlining stadium tour together . on august 24 , 2014 , she received the video vanguard award at the 2014 mtv video music awards . knowles also took home three competitive awards : best video with a social message and best cinematography for \" pretty hurts \" , as well as best collaboration for \" drunk in love \" . in november , forbes reported that beyoncé was the top - earning woman in music for the second year in a row — earning $ 115 million in the year , more than double her earnings in 2013 . beyoncé was reissued with new material in three forms : as an extended play , a box set , as well as a full platinum edition .\n",
            "trg:  what was the name of the tour featuring both beyoncé and jay z ?\n",
            "predicted:  what did beyoncé 's the first first ?\n",
            "\n",
            "src:  at the 57th annual grammy awards in february 2015 , beyoncé was nominated for six awards , ultimately winning three : best r&b performance and best r&b song for \" drunk in love \" , and best surround sound album for beyoncé . she was nominated for album of the year but the award was won by beck for his morning phase album . in august , the cover of the september issue of vogue magazine was unveiled online , beyoncé as the cover star , becoming the first african - american artist and third african - american woman in general to cover the september issue . she headlined the 2015 made in america festival in early september and also the global citizen festival later that month . beyoncé made an uncredited featured appearance on the track \" hymn for the weekend \" by british rock band coldplay , on their seventh studio album a head full of dreams ( 2015 ) , which saw release in december . on january 7 , 2016 , pepsi announced beyoncé would perform alongside coldplay at super bowl 50 in february . knowles has previously performed at four super bowl shows throughout her career , serving as the main headliner of the 47th super bowl halftime show in 2013 .\n",
            "trg:  how many awards did beyonce take home with her at the 57th grammy awards ?\n",
            "predicted:  how many awards did beyoncé win in 57th grammy awards ?\n",
            "\n",
            "src:  at the 57th annual grammy awards in february 2015 , beyoncé was nominated for six awards , ultimately winning three : best r&b performance and best r&b song for \" drunk in love \" , and best surround sound album for beyoncé . she was nominated for album of the year but the award was won by beck or his morning phase album . in august , the cover of the september issue of vogue magazine was unveiled online , beyoncé as the cover star , becoming the first african - american artist and third african - american woman in general to cover the september issue . she headlined the 2015 made in america festival in early september and also the global citizen festival later that month . beyoncé made an uncredited featured appearance on the track \" hymn for the weekend \" by british rock band coldplay , on their seventh studio album a head full of dreams ( 2015 ) , which saw release in december . on january 7 , 2016 , pepsi announced beyoncé would perform alongside coldplay at super bowl 50 in february . knowles has previously performed at four super bowl shows throughout her career , serving as the main headliner of the 47th super bowl halftime show in 2013 .\n",
            "trg:  which artist beat beyonce out for album of the year ?\n",
            "predicted:  who was the 's award for the 57th grammy ?\n",
            "\n"
          ],
          "name": "stdout"
        }
      ]
    },
    {
      "cell_type": "code",
      "metadata": {
        "id": "gxIdhwBq-ikD",
        "colab_type": "code",
        "colab": {}
      },
      "source": [
        "from nltk.translate.bleu_score import corpus_bleu"
      ],
      "execution_count": 0,
      "outputs": []
    },
    {
      "cell_type": "code",
      "metadata": {
        "id": "6cKAMa_L5wx3",
        "colab_type": "code",
        "colab": {}
      },
      "source": [
        "def calculate_bleu(data, model):\n",
        "    \n",
        "    trgs = []\n",
        "    pred_trgs = []\n",
        "    \n",
        "    for datum in data:\n",
        "        \n",
        "        src = vars(datum)['context']\n",
        "        trg = vars(datum)['question']\n",
        "        ans = vars(datum)['bio']\n",
        "        lex = vars(datum)['lex']\n",
        "        \n",
        "        pred_trg, _ = translate_sentence(model, src, ans, lex)\n",
        "        \n",
        "        #cut off <eos> token\n",
        "        pred_trg = pred_trg[:-1]\n",
        "        \n",
        "        pred_trgs.append(pred_trg)\n",
        "        # print(pred_trg)\n",
        "        trgs.append(trg)\n",
        "        # print(trg)\n",
        "        \n",
        "    return corpus_bleu(pred_trgs, trgs)"
      ],
      "execution_count": 0,
      "outputs": []
    },
    {
      "cell_type": "code",
      "metadata": {
        "id": "GlQc_znf6ATf",
        "colab_type": "code",
        "colab": {
          "base_uri": "https://localhost:8080/",
          "height": 101
        },
        "outputId": "71085bf3-f6cf-456a-dcbb-2cc41ca01fac"
      },
      "source": [
        "bleu_score = calculate_bleu(test_data, model)\n",
        "\n",
        "print(f'BLEU score = {bleu_score*100:.2f}')"
      ],
      "execution_count": 36,
      "outputs": [
        {
          "output_type": "stream",
          "text": [
            "BLEU score = 2.16\n"
          ],
          "name": "stdout"
        },
        {
          "output_type": "stream",
          "text": [
            "/usr/local/lib/python3.6/dist-packages/nltk/translate/bleu_score.py:490: UserWarning: \n",
            "Corpus/Sentence contains 0 counts of 3-gram overlaps.\n",
            "BLEU scores might be undesirable; use SmoothingFunction().\n",
            "  warnings.warn(_msg)\n"
          ],
          "name": "stderr"
        }
      ]
    },
    {
      "cell_type": "code",
      "metadata": {
        "id": "TAIOVs9DlC-e",
        "colab_type": "code",
        "colab": {}
      },
      "source": [
        " for instance in list(tqdm._instances):\n",
        "    tqdm._decr_instances(instance)"
      ],
      "execution_count": 0,
      "outputs": []
    }
  ]
}